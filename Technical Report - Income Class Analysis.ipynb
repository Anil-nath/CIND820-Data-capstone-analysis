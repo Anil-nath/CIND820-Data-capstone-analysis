{
 "cells": [
  {
   "cell_type": "code",
   "execution_count": 1,
   "id": "07e6fe78",
   "metadata": {
    "ExecuteTime": {
     "end_time": "2022-11-18T07:02:40.759923Z",
     "start_time": "2022-11-18T07:02:38.469197Z"
    },
    "execution": {
     "iopub.execute_input": "2022-08-22T04:01:57.075723Z",
     "iopub.status.busy": "2022-08-22T04:01:57.074042Z",
     "iopub.status.idle": "2022-08-22T04:01:58.694870Z",
     "shell.execute_reply": "2022-08-22T04:01:58.693382Z"
    },
    "id": "_-Gl9RayZYI9",
    "papermill": {
     "duration": 1.649519,
     "end_time": "2022-08-22T04:01:58.698697",
     "exception": false,
     "start_time": "2022-08-22T04:01:57.049178",
     "status": "completed"
    },
    "tags": []
   },
   "outputs": [],
   "source": [
    "# Importing the necessary libraries\n",
    "\n",
    "import warnings \n",
    "warnings.filterwarnings('ignore')\n",
    "\n",
    "# ************** DATA MANIPULATION *****************\n",
    "\n",
    "import pandas as pd\n",
    "import numpy as np\n",
    "\n",
    "# ************** DATA VISUALIZATION ****************\n",
    "\n",
    "import matplotlib.pyplot as plt\n",
    "import seaborn as sns\n",
    "%matplotlib inline\n"
   ]
  },
  {
   "cell_type": "markdown",
   "id": "935cbb39",
   "metadata": {
    "id": "lRi-eDWAwHdG",
    "papermill": {
     "duration": 0.017743,
     "end_time": "2022-08-22T04:01:58.773664",
     "exception": false,
     "start_time": "2022-08-22T04:01:58.755921",
     "status": "completed"
    },
    "tags": []
   },
   "source": [
    "# Understanding Dataset"
   ]
  },
  {
   "cell_type": "code",
   "execution_count": 2,
   "id": "e97de38d",
   "metadata": {
    "ExecuteTime": {
     "end_time": "2022-11-18T07:02:46.241019Z",
     "start_time": "2022-11-18T07:02:40.761496Z"
    }
   },
   "outputs": [
    {
     "data": {
      "text/html": [
       "<div>\n",
       "<style scoped>\n",
       "    .dataframe tbody tr th:only-of-type {\n",
       "        vertical-align: middle;\n",
       "    }\n",
       "\n",
       "    .dataframe tbody tr th {\n",
       "        vertical-align: top;\n",
       "    }\n",
       "\n",
       "    .dataframe thead th {\n",
       "        text-align: right;\n",
       "    }\n",
       "</style>\n",
       "<table border=\"1\" class=\"dataframe\">\n",
       "  <thead>\n",
       "    <tr style=\"text-align: right;\">\n",
       "      <th></th>\n",
       "      <th>age</th>\n",
       "      <th>workclass</th>\n",
       "      <th>fnlwgt</th>\n",
       "      <th>education</th>\n",
       "      <th>educational-num</th>\n",
       "      <th>marital-status</th>\n",
       "      <th>occupation</th>\n",
       "      <th>relationship</th>\n",
       "      <th>race</th>\n",
       "      <th>gender</th>\n",
       "      <th>capital-gain</th>\n",
       "      <th>capital-loss</th>\n",
       "      <th>hours-per-week</th>\n",
       "      <th>native-country</th>\n",
       "      <th>income</th>\n",
       "    </tr>\n",
       "  </thead>\n",
       "  <tbody>\n",
       "    <tr>\n",
       "      <th>0</th>\n",
       "      <td>39</td>\n",
       "      <td>State-gov</td>\n",
       "      <td>77516</td>\n",
       "      <td>Bachelors</td>\n",
       "      <td>13</td>\n",
       "      <td>Never-married</td>\n",
       "      <td>Adm-clerical</td>\n",
       "      <td>Not-in-family</td>\n",
       "      <td>White</td>\n",
       "      <td>Male</td>\n",
       "      <td>2174</td>\n",
       "      <td>0</td>\n",
       "      <td>40</td>\n",
       "      <td>United-States</td>\n",
       "      <td>&lt;=50K</td>\n",
       "    </tr>\n",
       "    <tr>\n",
       "      <th>1</th>\n",
       "      <td>50</td>\n",
       "      <td>Self-emp-not-inc</td>\n",
       "      <td>83311</td>\n",
       "      <td>Bachelors</td>\n",
       "      <td>13</td>\n",
       "      <td>Married-civ-spouse</td>\n",
       "      <td>Exec-managerial</td>\n",
       "      <td>Husband</td>\n",
       "      <td>White</td>\n",
       "      <td>Male</td>\n",
       "      <td>0</td>\n",
       "      <td>0</td>\n",
       "      <td>13</td>\n",
       "      <td>United-States</td>\n",
       "      <td>&lt;=50K</td>\n",
       "    </tr>\n",
       "    <tr>\n",
       "      <th>2</th>\n",
       "      <td>38</td>\n",
       "      <td>Private</td>\n",
       "      <td>215646</td>\n",
       "      <td>HS-grad</td>\n",
       "      <td>9</td>\n",
       "      <td>Divorced</td>\n",
       "      <td>Handlers-cleaners</td>\n",
       "      <td>Not-in-family</td>\n",
       "      <td>White</td>\n",
       "      <td>Male</td>\n",
       "      <td>0</td>\n",
       "      <td>0</td>\n",
       "      <td>40</td>\n",
       "      <td>United-States</td>\n",
       "      <td>&lt;=50K</td>\n",
       "    </tr>\n",
       "    <tr>\n",
       "      <th>3</th>\n",
       "      <td>53</td>\n",
       "      <td>Private</td>\n",
       "      <td>234721</td>\n",
       "      <td>11th</td>\n",
       "      <td>7</td>\n",
       "      <td>Married-civ-spouse</td>\n",
       "      <td>Handlers-cleaners</td>\n",
       "      <td>Husband</td>\n",
       "      <td>Black</td>\n",
       "      <td>Male</td>\n",
       "      <td>0</td>\n",
       "      <td>0</td>\n",
       "      <td>40</td>\n",
       "      <td>United-States</td>\n",
       "      <td>&lt;=50K</td>\n",
       "    </tr>\n",
       "    <tr>\n",
       "      <th>4</th>\n",
       "      <td>28</td>\n",
       "      <td>Private</td>\n",
       "      <td>338409</td>\n",
       "      <td>Bachelors</td>\n",
       "      <td>13</td>\n",
       "      <td>Married-civ-spouse</td>\n",
       "      <td>Prof-specialty</td>\n",
       "      <td>Wife</td>\n",
       "      <td>Black</td>\n",
       "      <td>Female</td>\n",
       "      <td>0</td>\n",
       "      <td>0</td>\n",
       "      <td>40</td>\n",
       "      <td>Cuba</td>\n",
       "      <td>&lt;=50K</td>\n",
       "    </tr>\n",
       "  </tbody>\n",
       "</table>\n",
       "</div>"
      ],
      "text/plain": [
       "   age          workclass  fnlwgt   education  educational-num  \\\n",
       "0   39          State-gov   77516   Bachelors               13   \n",
       "1   50   Self-emp-not-inc   83311   Bachelors               13   \n",
       "2   38            Private  215646     HS-grad                9   \n",
       "3   53            Private  234721        11th                7   \n",
       "4   28            Private  338409   Bachelors               13   \n",
       "\n",
       "        marital-status          occupation    relationship    race   gender  \\\n",
       "0        Never-married        Adm-clerical   Not-in-family   White     Male   \n",
       "1   Married-civ-spouse     Exec-managerial         Husband   White     Male   \n",
       "2             Divorced   Handlers-cleaners   Not-in-family   White     Male   \n",
       "3   Married-civ-spouse   Handlers-cleaners         Husband   Black     Male   \n",
       "4   Married-civ-spouse      Prof-specialty            Wife   Black   Female   \n",
       "\n",
       "   capital-gain  capital-loss  hours-per-week  native-country  income  \n",
       "0          2174             0              40   United-States   <=50K  \n",
       "1             0             0              13   United-States   <=50K  \n",
       "2             0             0              40   United-States   <=50K  \n",
       "3             0             0              40   United-States   <=50K  \n",
       "4             0             0              40            Cuba   <=50K  "
      ]
     },
     "execution_count": 2,
     "metadata": {},
     "output_type": "execute_result"
    }
   ],
   "source": [
    "adult_data_uci_url = 'https://archive.ics.uci.edu/ml/machine-learning-databases/adult/adult.data'\n",
    "\n",
    "adult_column_names = ['age', 'workclass', 'fnlwgt', 'education', 'educational-num', 'marital-status', \n",
    "                'occupation', 'relationship', 'race', 'gender', 'capital-gain', 'capital-loss', \n",
    "                'hours-per-week', 'native-country', 'income']\n",
    "\n",
    "data = pd.read_csv(adult_data_uci_url, names=adult_column_names)\n",
    "\n",
    "data.head()"
   ]
  },
  {
   "cell_type": "markdown",
   "id": "25662c14",
   "metadata": {},
   "source": [
    "<h3> About the Dataset </h3>\n",
    "\n",
    "* **Age**: Describes the age of individuals. Continuous.\n",
    "* **Workclass**: Private, Self-emp-not-inc, Self-emp-inc, Federal-gov, Local-gov, State-gov, Without-pay, Never-worked.\n",
    "* **fnlwgt**: Continuous.\n",
    "* **education**: Bachelors, Some-college, 11th, HS-grad, Prof-school, Assoc-acdm, Assoc-voc, 9th, 7th-8th, 12th, Masters, 1st-4th, 10th, Doctorate, 5th-6th, Preschool.\n",
    "* **education-num**: Number of years spent in education. Continuous.\n",
    "* **marital-status**: Married-civ-spouse, Divorced, Never-married, Separated, Widowed, Married-spouse-absent, Married-AF-spouse.\n",
    "* **occupation**: Tech-support, Craft-repair, Other-service, Sales, Exec-managerial, Prof-specialty, Handlers-cleaners, Machine-op-inspct, Adm-clerical, Farming-fishing, Transport-moving, Priv-house-serv, Protective-serv, Armed-Forces.\n",
    "* **relationship**: Wife, Own-child, Husband, Not-in-family, Other-relative, Unmarried.\n",
    "* **race**: White, Asian-Pac-Islander, Amer-Indian-Eskimo, Other, Black.\n",
    "* **sex**: Female, Male.\n",
    "* **capital-gain**: Continuous.\n",
    "* **capital-loss**: Continuous.\n",
    "* **hours-per-week**: Continuous.\n",
    "* **native-country**: United-States, Cambodia, England, Puerto-Rico, Canada, Germany, Outlying-US(Guam-USVI-etc), India, Japan, Greece, South, China, Cuba, Iran, Honduras, Philippines, Italy, Poland, Jamaica, Vietnam, Mexico, Portugal, Ireland, France, Dominican-Republic, Laos, Ecuador, Taiwan, Haiti, Columbia, Hungary, Guatemala, Nicaragua, Scotland, Thailand, Yugoslavia, El-Salvador, Trinadad&Tobago, Peru, Hong, Holand-Netherlands.\n",
    "* **salary**: >50K,<=50K"
   ]
  },
  {
   "cell_type": "code",
   "execution_count": 3,
   "id": "e2b29bbf",
   "metadata": {
    "ExecuteTime": {
     "end_time": "2022-11-18T07:02:46.256980Z",
     "start_time": "2022-11-18T07:02:46.244011Z"
    },
    "execution": {
     "iopub.execute_input": "2022-08-22T04:01:59.221447Z",
     "iopub.status.busy": "2022-08-22T04:01:59.220344Z",
     "iopub.status.idle": "2022-08-22T04:01:59.226851Z",
     "shell.execute_reply": "2022-08-22T04:01:59.225966Z"
    },
    "id": "NePdfuPWRDOa",
    "outputId": "27926c1f-9f1d-4088-bc56-0521a2dd4082",
    "papermill": {
     "duration": 0.028014,
     "end_time": "2022-08-22T04:01:59.229050",
     "exception": false,
     "start_time": "2022-08-22T04:01:59.201036",
     "status": "completed"
    },
    "tags": []
   },
   "outputs": [
    {
     "data": {
      "text/plain": [
       "(32561, 15)"
      ]
     },
     "execution_count": 3,
     "metadata": {},
     "output_type": "execute_result"
    }
   ],
   "source": [
    "data.shape"
   ]
  },
  {
   "cell_type": "code",
   "execution_count": 4,
   "id": "3c8ca42a",
   "metadata": {
    "ExecuteTime": {
     "end_time": "2022-11-18T07:02:46.288221Z",
     "start_time": "2022-11-18T07:02:46.259969Z"
    }
   },
   "outputs": [
    {
     "name": "stdout",
     "output_type": "stream",
     "text": [
      "<class 'pandas.core.frame.DataFrame'>\n",
      "RangeIndex: 32561 entries, 0 to 32560\n",
      "Data columns (total 15 columns):\n",
      " #   Column           Non-Null Count  Dtype \n",
      "---  ------           --------------  ----- \n",
      " 0   age              32561 non-null  int64 \n",
      " 1   workclass        32561 non-null  object\n",
      " 2   fnlwgt           32561 non-null  int64 \n",
      " 3   education        32561 non-null  object\n",
      " 4   educational-num  32561 non-null  int64 \n",
      " 5   marital-status   32561 non-null  object\n",
      " 6   occupation       32561 non-null  object\n",
      " 7   relationship     32561 non-null  object\n",
      " 8   race             32561 non-null  object\n",
      " 9   gender           32561 non-null  object\n",
      " 10  capital-gain     32561 non-null  int64 \n",
      " 11  capital-loss     32561 non-null  int64 \n",
      " 12  hours-per-week   32561 non-null  int64 \n",
      " 13  native-country   32561 non-null  object\n",
      " 14  income           32561 non-null  object\n",
      "dtypes: int64(6), object(9)\n",
      "memory usage: 3.7+ MB\n"
     ]
    }
   ],
   "source": [
    "data.info()"
   ]
  },
  {
   "cell_type": "code",
   "execution_count": 5,
   "id": "910540dd",
   "metadata": {
    "ExecuteTime": {
     "end_time": "2022-11-18T07:02:46.319432Z",
     "start_time": "2022-11-18T07:02:46.290214Z"
    }
   },
   "outputs": [
    {
     "data": {
      "text/plain": [
       "age                0\n",
       "workclass          0\n",
       "fnlwgt             0\n",
       "education          0\n",
       "educational-num    0\n",
       "marital-status     0\n",
       "occupation         0\n",
       "relationship       0\n",
       "race               0\n",
       "gender             0\n",
       "capital-gain       0\n",
       "capital-loss       0\n",
       "hours-per-week     0\n",
       "native-country     0\n",
       "income             0\n",
       "dtype: int64"
      ]
     },
     "execution_count": 5,
     "metadata": {},
     "output_type": "execute_result"
    }
   ],
   "source": [
    "# column wise missing value check\n",
    "data.isnull().sum()"
   ]
  },
  {
   "cell_type": "code",
   "execution_count": 6,
   "id": "1099b688",
   "metadata": {
    "ExecuteTime": {
     "end_time": "2022-11-18T07:02:46.351051Z",
     "start_time": "2022-11-18T07:02:46.321131Z"
    }
   },
   "outputs": [
    {
     "name": "stdout",
     "output_type": "stream",
     "text": [
      "Unique values for: workclass\n",
      "[' State-gov' ' Self-emp-not-inc' ' Private' ' Federal-gov' ' Local-gov'\n",
      " ' ?' ' Self-emp-inc' ' Without-pay' ' Never-worked']\n",
      "\n",
      "\n",
      "****************************************\n",
      "Unique values for: education\n",
      "[' Bachelors' ' HS-grad' ' 11th' ' Masters' ' 9th' ' Some-college'\n",
      " ' Assoc-acdm' ' Assoc-voc' ' 7th-8th' ' Doctorate' ' Prof-school'\n",
      " ' 5th-6th' ' 10th' ' 1st-4th' ' Preschool' ' 12th']\n",
      "\n",
      "\n",
      "****************************************\n",
      "Unique values for: marital-status\n",
      "[' Never-married' ' Married-civ-spouse' ' Divorced'\n",
      " ' Married-spouse-absent' ' Separated' ' Married-AF-spouse' ' Widowed']\n",
      "\n",
      "\n",
      "****************************************\n",
      "Unique values for: occupation\n",
      "[' Adm-clerical' ' Exec-managerial' ' Handlers-cleaners' ' Prof-specialty'\n",
      " ' Other-service' ' Sales' ' Craft-repair' ' Transport-moving'\n",
      " ' Farming-fishing' ' Machine-op-inspct' ' Tech-support' ' ?'\n",
      " ' Protective-serv' ' Armed-Forces' ' Priv-house-serv']\n",
      "\n",
      "\n",
      "****************************************\n",
      "Unique values for: relationship\n",
      "[' Not-in-family' ' Husband' ' Wife' ' Own-child' ' Unmarried'\n",
      " ' Other-relative']\n",
      "\n",
      "\n",
      "****************************************\n",
      "Unique values for: race\n",
      "[' White' ' Black' ' Asian-Pac-Islander' ' Amer-Indian-Eskimo' ' Other']\n",
      "\n",
      "\n",
      "****************************************\n",
      "Unique values for: gender\n",
      "[' Male' ' Female']\n",
      "\n",
      "\n",
      "****************************************\n",
      "Unique values for: native-country\n",
      "[' United-States' ' Cuba' ' Jamaica' ' India' ' ?' ' Mexico' ' South'\n",
      " ' Puerto-Rico' ' Honduras' ' England' ' Canada' ' Germany' ' Iran'\n",
      " ' Philippines' ' Italy' ' Poland' ' Columbia' ' Cambodia' ' Thailand'\n",
      " ' Ecuador' ' Laos' ' Taiwan' ' Haiti' ' Portugal' ' Dominican-Republic'\n",
      " ' El-Salvador' ' France' ' Guatemala' ' China' ' Japan' ' Yugoslavia'\n",
      " ' Peru' ' Outlying-US(Guam-USVI-etc)' ' Scotland' ' Trinadad&Tobago'\n",
      " ' Greece' ' Nicaragua' ' Vietnam' ' Hong' ' Ireland' ' Hungary'\n",
      " ' Holand-Netherlands']\n",
      "\n",
      "\n",
      "****************************************\n",
      "Unique values for: income\n",
      "[' <=50K' ' >50K']\n",
      "\n",
      "\n",
      "****************************************\n"
     ]
    }
   ],
   "source": [
    "# Unique values in each categorical column\n",
    "\n",
    "for col in data.select_dtypes(include=['object']).columns:\n",
    "    print(\"Unique values for:\", col)\n",
    "    print(data[col].unique())\n",
    "    print(\"\\n\")\n",
    "    print(\"*\"*40)"
   ]
  },
  {
   "cell_type": "markdown",
   "id": "994e5f76",
   "metadata": {},
   "source": [
    "<h3> Observation: </h3>\n",
    "\n",
    "* The dataset has 32561 rows and 15 columns\n",
    "* The dataset contains absolutely **no null values**! \n",
    "* Age, Final Weight, Education Number, Capital Gain, Capital Loss and Hours Per Week are integer columns.\n",
    "* There are no Float Datatypes in the dataset.\n",
    "* Workclass, Education, Marital Status, Occupation, Relationship, Race, Sec, Native Country and Income are of object datatypes.\n",
    "* Although the dataset does not contain any null values, a closer look tells us that there are a lot of **'?'** values in our dataset. We will have to **replace** those values!"
   ]
  },
  {
   "cell_type": "code",
   "execution_count": 7,
   "id": "75c3dbdb",
   "metadata": {
    "ExecuteTime": {
     "end_time": "2022-11-18T07:02:46.380970Z",
     "start_time": "2022-11-18T07:02:46.352042Z"
    },
    "execution": {
     "iopub.execute_input": "2022-08-22T04:01:59.268378Z",
     "iopub.status.busy": "2022-08-22T04:01:59.267556Z",
     "iopub.status.idle": "2022-08-22T04:01:59.318578Z",
     "shell.execute_reply": "2022-08-22T04:01:59.317361Z"
    },
    "id": "FNm_iRYJQ1NP",
    "outputId": "e1e92798-2671-4891-9c96-57be90f81e68",
    "papermill": {
     "duration": 0.073924,
     "end_time": "2022-08-22T04:01:59.320915",
     "exception": false,
     "start_time": "2022-08-22T04:01:59.246991",
     "status": "completed"
    },
    "scrolled": true,
    "tags": []
   },
   "outputs": [
    {
     "data": {
      "text/html": [
       "<div>\n",
       "<style scoped>\n",
       "    .dataframe tbody tr th:only-of-type {\n",
       "        vertical-align: middle;\n",
       "    }\n",
       "\n",
       "    .dataframe tbody tr th {\n",
       "        vertical-align: top;\n",
       "    }\n",
       "\n",
       "    .dataframe thead th {\n",
       "        text-align: right;\n",
       "    }\n",
       "</style>\n",
       "<table border=\"1\" class=\"dataframe\">\n",
       "  <thead>\n",
       "    <tr style=\"text-align: right;\">\n",
       "      <th></th>\n",
       "      <th>count</th>\n",
       "      <th>mean</th>\n",
       "      <th>std</th>\n",
       "      <th>min</th>\n",
       "      <th>25%</th>\n",
       "      <th>50%</th>\n",
       "      <th>75%</th>\n",
       "      <th>max</th>\n",
       "    </tr>\n",
       "  </thead>\n",
       "  <tbody>\n",
       "    <tr>\n",
       "      <th>age</th>\n",
       "      <td>32561.0</td>\n",
       "      <td>38.581647</td>\n",
       "      <td>13.640433</td>\n",
       "      <td>17.0</td>\n",
       "      <td>28.0</td>\n",
       "      <td>37.0</td>\n",
       "      <td>48.0</td>\n",
       "      <td>90.0</td>\n",
       "    </tr>\n",
       "    <tr>\n",
       "      <th>fnlwgt</th>\n",
       "      <td>32561.0</td>\n",
       "      <td>189778.366512</td>\n",
       "      <td>105549.977697</td>\n",
       "      <td>12285.0</td>\n",
       "      <td>117827.0</td>\n",
       "      <td>178356.0</td>\n",
       "      <td>237051.0</td>\n",
       "      <td>1484705.0</td>\n",
       "    </tr>\n",
       "    <tr>\n",
       "      <th>educational-num</th>\n",
       "      <td>32561.0</td>\n",
       "      <td>10.080679</td>\n",
       "      <td>2.572720</td>\n",
       "      <td>1.0</td>\n",
       "      <td>9.0</td>\n",
       "      <td>10.0</td>\n",
       "      <td>12.0</td>\n",
       "      <td>16.0</td>\n",
       "    </tr>\n",
       "    <tr>\n",
       "      <th>capital-gain</th>\n",
       "      <td>32561.0</td>\n",
       "      <td>1077.648844</td>\n",
       "      <td>7385.292085</td>\n",
       "      <td>0.0</td>\n",
       "      <td>0.0</td>\n",
       "      <td>0.0</td>\n",
       "      <td>0.0</td>\n",
       "      <td>99999.0</td>\n",
       "    </tr>\n",
       "    <tr>\n",
       "      <th>capital-loss</th>\n",
       "      <td>32561.0</td>\n",
       "      <td>87.303830</td>\n",
       "      <td>402.960219</td>\n",
       "      <td>0.0</td>\n",
       "      <td>0.0</td>\n",
       "      <td>0.0</td>\n",
       "      <td>0.0</td>\n",
       "      <td>4356.0</td>\n",
       "    </tr>\n",
       "    <tr>\n",
       "      <th>hours-per-week</th>\n",
       "      <td>32561.0</td>\n",
       "      <td>40.437456</td>\n",
       "      <td>12.347429</td>\n",
       "      <td>1.0</td>\n",
       "      <td>40.0</td>\n",
       "      <td>40.0</td>\n",
       "      <td>45.0</td>\n",
       "      <td>99.0</td>\n",
       "    </tr>\n",
       "  </tbody>\n",
       "</table>\n",
       "</div>"
      ],
      "text/plain": [
       "                   count           mean            std      min       25%  \\\n",
       "age              32561.0      38.581647      13.640433     17.0      28.0   \n",
       "fnlwgt           32561.0  189778.366512  105549.977697  12285.0  117827.0   \n",
       "educational-num  32561.0      10.080679       2.572720      1.0       9.0   \n",
       "capital-gain     32561.0    1077.648844    7385.292085      0.0       0.0   \n",
       "capital-loss     32561.0      87.303830     402.960219      0.0       0.0   \n",
       "hours-per-week   32561.0      40.437456      12.347429      1.0      40.0   \n",
       "\n",
       "                      50%       75%        max  \n",
       "age                  37.0      48.0       90.0  \n",
       "fnlwgt           178356.0  237051.0  1484705.0  \n",
       "educational-num      10.0      12.0       16.0  \n",
       "capital-gain          0.0       0.0    99999.0  \n",
       "capital-loss          0.0       0.0     4356.0  \n",
       "hours-per-week       40.0      45.0       99.0  "
      ]
     },
     "execution_count": 7,
     "metadata": {},
     "output_type": "execute_result"
    }
   ],
   "source": [
    "data.describe().T"
   ]
  },
  {
   "cell_type": "markdown",
   "id": "3db35acf",
   "metadata": {
    "ExecuteTime": {
     "end_time": "2022-10-22T07:32:17.969732Z",
     "start_time": "2022-10-22T07:32:17.954796Z"
    }
   },
   "source": [
    "<h3> Observation: </h3>\n",
    "\n",
    "* The minimum and maximum age of people in the dataset is 19 and 90 years respectively, while the average age is 37.\n",
    "* The minimum and maximum years spent on education is 1 and 16 respectively, whereas the mean education level is 10 years.\n",
    "* While the minimum and average capital gain is 0, maximum is 99999. This seems odd, maybe some error within the data collection.\n",
    "* The number of hours spent per week varies between 1 to 99 and the average being 40 hours."
   ]
  },
  {
   "cell_type": "code",
   "execution_count": 8,
   "id": "e46cbaa7",
   "metadata": {
    "ExecuteTime": {
     "end_time": "2022-11-18T07:02:46.428843Z",
     "start_time": "2022-11-18T07:02:46.383922Z"
    },
    "execution": {
     "iopub.execute_input": "2022-08-22T04:01:59.359110Z",
     "iopub.status.busy": "2022-08-22T04:01:59.358350Z",
     "iopub.status.idle": "2022-08-22T04:01:59.433206Z",
     "shell.execute_reply": "2022-08-22T04:01:59.431925Z"
    },
    "id": "PDjvBIb0Se_8",
    "outputId": "c54195ea-c142-4056-bc1f-99c5e3dd5135",
    "papermill": {
     "duration": 0.097333,
     "end_time": "2022-08-22T04:01:59.436273",
     "exception": false,
     "start_time": "2022-08-22T04:01:59.338940",
     "status": "completed"
    },
    "tags": []
   },
   "outputs": [
    {
     "data": {
      "text/html": [
       "<div>\n",
       "<style scoped>\n",
       "    .dataframe tbody tr th:only-of-type {\n",
       "        vertical-align: middle;\n",
       "    }\n",
       "\n",
       "    .dataframe tbody tr th {\n",
       "        vertical-align: top;\n",
       "    }\n",
       "\n",
       "    .dataframe thead th {\n",
       "        text-align: right;\n",
       "    }\n",
       "</style>\n",
       "<table border=\"1\" class=\"dataframe\">\n",
       "  <thead>\n",
       "    <tr style=\"text-align: right;\">\n",
       "      <th></th>\n",
       "      <th>workclass</th>\n",
       "      <th>education</th>\n",
       "      <th>marital-status</th>\n",
       "      <th>occupation</th>\n",
       "      <th>relationship</th>\n",
       "      <th>race</th>\n",
       "      <th>gender</th>\n",
       "      <th>native-country</th>\n",
       "      <th>income</th>\n",
       "    </tr>\n",
       "  </thead>\n",
       "  <tbody>\n",
       "    <tr>\n",
       "      <th>count</th>\n",
       "      <td>32561</td>\n",
       "      <td>32561</td>\n",
       "      <td>32561</td>\n",
       "      <td>32561</td>\n",
       "      <td>32561</td>\n",
       "      <td>32561</td>\n",
       "      <td>32561</td>\n",
       "      <td>32561</td>\n",
       "      <td>32561</td>\n",
       "    </tr>\n",
       "    <tr>\n",
       "      <th>unique</th>\n",
       "      <td>9</td>\n",
       "      <td>16</td>\n",
       "      <td>7</td>\n",
       "      <td>15</td>\n",
       "      <td>6</td>\n",
       "      <td>5</td>\n",
       "      <td>2</td>\n",
       "      <td>42</td>\n",
       "      <td>2</td>\n",
       "    </tr>\n",
       "    <tr>\n",
       "      <th>top</th>\n",
       "      <td>Private</td>\n",
       "      <td>HS-grad</td>\n",
       "      <td>Married-civ-spouse</td>\n",
       "      <td>Prof-specialty</td>\n",
       "      <td>Husband</td>\n",
       "      <td>White</td>\n",
       "      <td>Male</td>\n",
       "      <td>United-States</td>\n",
       "      <td>&lt;=50K</td>\n",
       "    </tr>\n",
       "    <tr>\n",
       "      <th>freq</th>\n",
       "      <td>22696</td>\n",
       "      <td>10501</td>\n",
       "      <td>14976</td>\n",
       "      <td>4140</td>\n",
       "      <td>13193</td>\n",
       "      <td>27816</td>\n",
       "      <td>21790</td>\n",
       "      <td>29170</td>\n",
       "      <td>24720</td>\n",
       "    </tr>\n",
       "  </tbody>\n",
       "</table>\n",
       "</div>"
      ],
      "text/plain": [
       "       workclass education       marital-status       occupation relationship  \\\n",
       "count      32561     32561                32561            32561        32561   \n",
       "unique         9        16                    7               15            6   \n",
       "top      Private   HS-grad   Married-civ-spouse   Prof-specialty      Husband   \n",
       "freq       22696     10501                14976             4140        13193   \n",
       "\n",
       "          race gender  native-country  income  \n",
       "count    32561  32561           32561   32561  \n",
       "unique       5      2              42       2  \n",
       "top      White   Male   United-States   <=50K  \n",
       "freq     27816  21790           29170   24720  "
      ]
     },
     "execution_count": 8,
     "metadata": {},
     "output_type": "execute_result"
    }
   ],
   "source": [
    "data.describe(include='object')"
   ]
  },
  {
   "cell_type": "code",
   "execution_count": null,
   "id": "d77b2ae1",
   "metadata": {},
   "outputs": [],
   "source": []
  },
  {
   "cell_type": "code",
   "execution_count": 9,
   "id": "a69daf10",
   "metadata": {
    "ExecuteTime": {
     "end_time": "2022-11-18T07:02:46.475718Z",
     "start_time": "2022-11-18T07:02:46.430838Z"
    }
   },
   "outputs": [
    {
     "name": "stdout",
     "output_type": "stream",
     "text": [
      "<class 'pandas.core.frame.DataFrame'>\n",
      "RangeIndex: 32561 entries, 0 to 32560\n",
      "Data columns (total 15 columns):\n",
      " #   Column           Non-Null Count  Dtype \n",
      "---  ------           --------------  ----- \n",
      " 0   age              32561 non-null  int64 \n",
      " 1   workclass        30725 non-null  object\n",
      " 2   fnlwgt           32561 non-null  int64 \n",
      " 3   education        32561 non-null  object\n",
      " 4   educational-num  32561 non-null  int64 \n",
      " 5   marital-status   32561 non-null  object\n",
      " 6   occupation       30718 non-null  object\n",
      " 7   relationship     32561 non-null  object\n",
      " 8   race             32561 non-null  object\n",
      " 9   gender           32561 non-null  object\n",
      " 10  capital-gain     32561 non-null  int64 \n",
      " 11  capital-loss     32561 non-null  int64 \n",
      " 12  hours-per-week   32561 non-null  int64 \n",
      " 13  native-country   31978 non-null  object\n",
      " 14  income           32561 non-null  object\n",
      "dtypes: int64(6), object(9)\n",
      "memory usage: 3.7+ MB\n"
     ]
    }
   ],
   "source": [
    "data[data == ' ?'] = np.nan\n",
    "data.info()"
   ]
  },
  {
   "cell_type": "code",
   "execution_count": 10,
   "id": "b8819fc1",
   "metadata": {
    "ExecuteTime": {
     "end_time": "2022-11-18T07:02:46.491676Z",
     "start_time": "2022-11-18T07:02:46.476731Z"
    }
   },
   "outputs": [],
   "source": [
    "for col in ['workclass', 'occupation', 'native-country']:\n",
    "    data[col].fillna(data[col].mode()[0], inplace=True)"
   ]
  },
  {
   "cell_type": "code",
   "execution_count": 11,
   "id": "7bf495fc",
   "metadata": {
    "ExecuteTime": {
     "end_time": "2022-11-18T07:02:46.522592Z",
     "start_time": "2022-11-18T07:02:46.492672Z"
    }
   },
   "outputs": [
    {
     "data": {
      "text/plain": [
       "age                0\n",
       "workclass          0\n",
       "fnlwgt             0\n",
       "education          0\n",
       "educational-num    0\n",
       "marital-status     0\n",
       "occupation         0\n",
       "relationship       0\n",
       "race               0\n",
       "gender             0\n",
       "capital-gain       0\n",
       "capital-loss       0\n",
       "hours-per-week     0\n",
       "native-country     0\n",
       "income             0\n",
       "dtype: int64"
      ]
     },
     "execution_count": 11,
     "metadata": {},
     "output_type": "execute_result"
    }
   ],
   "source": [
    "# column wise missing value check\n",
    "data.isnull().sum()"
   ]
  },
  {
   "cell_type": "markdown",
   "id": "5fd467a5",
   "metadata": {},
   "source": [
    "<h3> Observation: </h3>\n",
    "\n",
    "* We can see that the columns **workclass**, **occupation**, and **native-country** contains null values. We would have to find out a way to deal with them!\n",
    "* There can be many ways to impute missing values, but right now, for the sake of simplicity we would impute them using **mode**!"
   ]
  },
  {
   "cell_type": "code",
   "execution_count": null,
   "id": "0d142a2c",
   "metadata": {},
   "outputs": [],
   "source": []
  },
  {
   "cell_type": "markdown",
   "id": "08a9e545",
   "metadata": {},
   "source": [
    "<h1> Exploratory Data Analysis </h1>\n",
    "\n",
    "\n",
    "**Before beginning, let us understand a bit about our data.**"
   ]
  },
  {
   "cell_type": "code",
   "execution_count": 12,
   "id": "2e587f80",
   "metadata": {
    "ExecuteTime": {
     "end_time": "2022-11-18T07:02:46.632299Z",
     "start_time": "2022-11-18T07:02:46.523596Z"
    },
    "execution": {
     "iopub.execute_input": "2022-08-22T04:01:59.573042Z",
     "iopub.status.busy": "2022-08-22T04:01:59.572572Z",
     "iopub.status.idle": "2022-08-22T04:01:59.841023Z",
     "shell.execute_reply": "2022-08-22T04:01:59.839899Z"
    },
    "id": "DmxDiwHSONRL",
    "outputId": "d1cd3bc9-da95-4a5e-9ca0-0cc5745d89f5",
    "papermill": {
     "duration": 0.292356,
     "end_time": "2022-08-22T04:01:59.843896",
     "exception": false,
     "start_time": "2022-08-22T04:01:59.551540",
     "status": "completed"
    },
    "tags": []
   },
   "outputs": [
    {
     "data": {
      "text/plain": [
       "<AxesSubplot:xlabel='income', ylabel='count'>"
      ]
     },
     "execution_count": 12,
     "metadata": {},
     "output_type": "execute_result"
    },
    {
     "data": {
      "image/png": "[encoded data removed]",
      "text/plain": [
       "<Figure size 432x288 with 1 Axes>"
      ]
     },
     "metadata": {
      "needs_background": "light"
     },
     "output_type": "display_data"
    }
   ],
   "source": [
    "sns.countplot(data=data, x='income')"
   ]
  },
  {
   "cell_type": "markdown",
   "id": "e1488cde",
   "metadata": {},
   "source": [
    "<h3> Observation: </h3>\n",
    "\n",
    "In the EDA Section, I wanted to start by analysing our target variable first. We have come across a very obvious observation!\n",
    "\n",
    "* The number of people earning more than **50K dollars** an year is one third of the people earning less than it.\n",
    "* We should also keep in mind that this data was collected in **1996**, so 50K dollars of that tme, might not be the same in today's time!"
   ]
  },
  {
   "cell_type": "code",
   "execution_count": 13,
   "id": "309f2822",
   "metadata": {
    "ExecuteTime": {
     "end_time": "2022-11-18T07:02:46.648215Z",
     "start_time": "2022-11-18T07:02:46.633255Z"
    },
    "execution": {
     "iopub.execute_input": "2022-08-22T04:02:02.310667Z",
     "iopub.status.busy": "2022-08-22T04:02:02.309884Z",
     "iopub.status.idle": "2022-08-22T04:02:02.321933Z",
     "shell.execute_reply": "2022-08-22T04:02:02.320730Z"
    },
    "id": "1leyx_3rXV2P",
    "outputId": "75eee769-15c8-4784-b548-bf9eb5f94cfe",
    "papermill": {
     "duration": 0.040248,
     "end_time": "2022-08-22T04:02:02.324781",
     "exception": false,
     "start_time": "2022-08-22T04:02:02.284533",
     "status": "completed"
    },
    "tags": []
   },
   "outputs": [
    {
     "data": {
      "text/plain": [
       "array([' State-gov', ' Self-emp-not-inc', ' Private', ' Federal-gov',\n",
       "       ' Local-gov', ' Self-emp-inc', ' Without-pay', ' Never-worked'],\n",
       "      dtype=object)"
      ]
     },
     "execution_count": 13,
     "metadata": {},
     "output_type": "execute_result"
    }
   ],
   "source": [
    "data['workclass'].unique()"
   ]
  },
  {
   "cell_type": "code",
   "execution_count": 14,
   "id": "08fb8fe6",
   "metadata": {
    "ExecuteTime": {
     "end_time": "2022-11-18T07:02:46.850716Z",
     "start_time": "2022-11-18T07:02:46.649213Z"
    },
    "execution": {
     "iopub.execute_input": "2022-08-22T04:02:02.373198Z",
     "iopub.status.busy": "2022-08-22T04:02:02.372303Z",
     "iopub.status.idle": "2022-08-22T04:02:02.732873Z",
     "shell.execute_reply": "2022-08-22T04:02:02.731566Z"
    },
    "id": "H97XOMItXMbu",
    "outputId": "bcea49d3-d6a7-491e-d9eb-d6be320e6f2e",
    "papermill": {
     "duration": 0.387752,
     "end_time": "2022-08-22T04:02:02.735801",
     "exception": false,
     "start_time": "2022-08-22T04:02:02.348049",
     "status": "completed"
    },
    "tags": []
   },
   "outputs": [
    {
     "data": {
      "text/plain": [
       "<matplotlib.legend.Legend at 0x20a724089c8>"
      ]
     },
     "execution_count": 14,
     "metadata": {},
     "output_type": "execute_result"
    },
    {
     "data": {
      "image/png": "[encoded data removed]",
      "text/plain": [
       "<Figure size 1080x504 with 1 Axes>"
      ]
     },
     "metadata": {
      "needs_background": "light"
     },
     "output_type": "display_data"
    }
   ],
   "source": [
    "plt.figure(figsize=(15,7))\n",
    "ax=sns.countplot(data=data, x= 'workclass', hue='income')\n",
    "plt.legend(['<=50K', '>50K'])"
   ]
  },
  {
   "cell_type": "markdown",
   "id": "9b40fe18",
   "metadata": {
    "ExecuteTime": {
     "end_time": "2022-10-22T08:43:27.900462Z",
     "start_time": "2022-10-22T08:43:27.878975Z"
    }
   },
   "source": [
    "<h3> Observation: </h3>\n",
    "\n",
    "In the above graph, we have segregated the incomes of adults on the basis of their different working classes.\n",
    "\n",
    "* It is quite interesting to see that **Self-Employed** is the only category where the number of people who earn more than 50K dollars exceed those earning less than it! It might be conducive to suggest that when you handle your own business, start-up, etc. you are more likely to earn better if it gets successful!\n",
    "* People working in the **Private Sector** face a significant difference between their pays where more than **75%** of them earn less than 50K dollars an year!\n",
    "* There is a very minute difference between the number of people whose income is more or less than 50K dollars an year who work for the **Federal Govt.**\n",
    "* People belonging to the category **Without-Pay** and **Never-Worked** hardly contain any data in both the categories."
   ]
  },
  {
   "cell_type": "code",
   "execution_count": 15,
   "id": "b62331a0",
   "metadata": {
    "ExecuteTime": {
     "end_time": "2022-11-18T07:02:46.866740Z",
     "start_time": "2022-11-18T07:02:46.851674Z"
    },
    "execution": {
     "iopub.execute_input": "2022-08-22T04:02:02.786398Z",
     "iopub.status.busy": "2022-08-22T04:02:02.785816Z",
     "iopub.status.idle": "2022-08-22T04:02:02.798173Z",
     "shell.execute_reply": "2022-08-22T04:02:02.797209Z"
    },
    "id": "E-vtBYepZmED",
    "outputId": "6d833f2a-b188-4901-a6f3-65bd93859a87",
    "papermill": {
     "duration": 0.041346,
     "end_time": "2022-08-22T04:02:02.800700",
     "exception": false,
     "start_time": "2022-08-22T04:02:02.759354",
     "status": "completed"
    },
    "tags": []
   },
   "outputs": [
    {
     "data": {
      "text/plain": [
       "array([' Bachelors', ' HS-grad', ' 11th', ' Masters', ' 9th',\n",
       "       ' Some-college', ' Assoc-acdm', ' Assoc-voc', ' 7th-8th',\n",
       "       ' Doctorate', ' Prof-school', ' 5th-6th', ' 10th', ' 1st-4th',\n",
       "       ' Preschool', ' 12th'], dtype=object)"
      ]
     },
     "execution_count": 15,
     "metadata": {},
     "output_type": "execute_result"
    }
   ],
   "source": [
    "data['education'].unique()"
   ]
  },
  {
   "cell_type": "code",
   "execution_count": 16,
   "id": "3bff321d",
   "metadata": {
    "ExecuteTime": {
     "end_time": "2022-11-18T07:02:47.133028Z",
     "start_time": "2022-11-18T07:02:46.867779Z"
    },
    "execution": {
     "iopub.execute_input": "2022-08-22T04:02:02.851920Z",
     "iopub.status.busy": "2022-08-22T04:02:02.851433Z",
     "iopub.status.idle": "2022-08-22T04:02:03.283731Z",
     "shell.execute_reply": "2022-08-22T04:02:03.282491Z"
    },
    "id": "H94cEMrVeV9h",
    "outputId": "a640742f-c3aa-42e1-9135-29ef45f23437",
    "papermill": {
     "duration": 0.460745,
     "end_time": "2022-08-22T04:02:03.286341",
     "exception": false,
     "start_time": "2022-08-22T04:02:02.825596",
     "status": "completed"
    },
    "tags": []
   },
   "outputs": [
    {
     "data": {
      "text/plain": [
       "<matplotlib.legend.Legend at 0x20a72331208>"
      ]
     },
     "execution_count": 16,
     "metadata": {},
     "output_type": "execute_result"
    },
    {
     "data": {
      "image/png": "[encoded data removed]",
      "text/plain": [
       "<Figure size 1080x504 with 1 Axes>"
      ]
     },
     "metadata": {
      "needs_background": "light"
     },
     "output_type": "display_data"
    }
   ],
   "source": [
    "plt.figure(figsize=(15,7))\n",
    "ax=sns.countplot(data=data, x= 'education', hue='income')\n",
    "ax.set_xticklabels(ax.get_xticklabels(),rotation=60)\n",
    "plt.legend(['<=50K', '>50K'])"
   ]
  },
  {
   "cell_type": "markdown",
   "id": "7f4a37d8",
   "metadata": {
    "ExecuteTime": {
     "end_time": "2022-10-22T08:52:28.180605Z",
     "start_time": "2022-10-22T08:52:28.163607Z"
    }
   },
   "source": [
    "<h3> Observation: </h3>\n",
    "\n",
    "We can draw a few insightful conclusions from this graph.\n",
    "\n",
    "* For the people who have completed their **education up till 12th Standard**, there are just a handful of them who earn more than 50K dollars an year. Most of the people end up earning below 50K!\n",
    "* For the people belonging to **Bachelors**, **Masters**, **Doctorate**, **Prof-school** category in the education level, there are more number of people who are earning greater than **50K** dollars an year than the number of people earning less than it.\n",
    "* In case of **Assoc-acdm** or **Assoc-voc**, there are a few people who earn more than **50K** dollars an year!"
   ]
  },
  {
   "cell_type": "code",
   "execution_count": 17,
   "id": "02c750ff",
   "metadata": {
    "ExecuteTime": {
     "end_time": "2022-11-18T07:02:47.148177Z",
     "start_time": "2022-11-18T07:02:47.134090Z"
    },
    "execution": {
     "iopub.execute_input": "2022-08-22T04:02:03.337415Z",
     "iopub.status.busy": "2022-08-22T04:02:03.336910Z",
     "iopub.status.idle": "2022-08-22T04:02:03.349859Z",
     "shell.execute_reply": "2022-08-22T04:02:03.348302Z"
    },
    "id": "RfO_j5tWb0dS",
    "outputId": "c47fc58e-1f2e-4e3f-a09f-7403821235b4",
    "papermill": {
     "duration": 0.041577,
     "end_time": "2022-08-22T04:02:03.352570",
     "exception": false,
     "start_time": "2022-08-22T04:02:03.310993",
     "status": "completed"
    },
    "tags": []
   },
   "outputs": [
    {
     "data": {
      "text/plain": [
       "array([' Never-married', ' Married-civ-spouse', ' Divorced',\n",
       "       ' Married-spouse-absent', ' Separated', ' Married-AF-spouse',\n",
       "       ' Widowed'], dtype=object)"
      ]
     },
     "execution_count": 17,
     "metadata": {},
     "output_type": "execute_result"
    }
   ],
   "source": [
    "data['marital-status'].unique()"
   ]
  },
  {
   "cell_type": "code",
   "execution_count": 18,
   "id": "e9539ded",
   "metadata": {
    "ExecuteTime": {
     "end_time": "2022-11-18T07:02:47.334732Z",
     "start_time": "2022-11-18T07:02:47.150178Z"
    },
    "execution": {
     "iopub.execute_input": "2022-08-22T04:02:03.404743Z",
     "iopub.status.busy": "2022-08-22T04:02:03.404171Z",
     "iopub.status.idle": "2022-08-22T04:02:03.748746Z",
     "shell.execute_reply": "2022-08-22T04:02:03.747218Z"
    },
    "id": "01aICtzLgKva",
    "outputId": "bb5807ac-e235-41b9-cd97-a160e4b4d9ec",
    "papermill": {
     "duration": 0.374638,
     "end_time": "2022-08-22T04:02:03.751818",
     "exception": false,
     "start_time": "2022-08-22T04:02:03.377180",
     "status": "completed"
    },
    "tags": []
   },
   "outputs": [
    {
     "data": {
      "text/plain": [
       "<matplotlib.legend.Legend at 0x20a725523c8>"
      ]
     },
     "execution_count": 18,
     "metadata": {},
     "output_type": "execute_result"
    },
    {
     "data": {
      "image/png": "[encoded data removed]",
      "text/plain": [
       "<Figure size 1080x504 with 1 Axes>"
      ]
     },
     "metadata": {
      "needs_background": "light"
     },
     "output_type": "display_data"
    }
   ],
   "source": [
    "plt.figure(figsize=(15,7))\n",
    "ax=sns.countplot(data=data, x='marital-status',hue='income')\n",
    "plt.legend(['<=50K', '>50K'])"
   ]
  },
  {
   "cell_type": "markdown",
   "id": "f8d34614",
   "metadata": {},
   "source": [
    "<h3> Observation: </h3>\n",
    "\n",
    "* One thing to note here is that **Married-civ-spouse** is the only category which has comparable number of people belonging to both categories. \n",
    "* For others, there are less than **25%** of the adults earning more than **50K** dollars an year."
   ]
  },
  {
   "cell_type": "code",
   "execution_count": 19,
   "id": "1b1962c7",
   "metadata": {
    "ExecuteTime": {
     "end_time": "2022-11-18T07:02:47.350642Z",
     "start_time": "2022-11-18T07:02:47.335705Z"
    },
    "execution": {
     "iopub.execute_input": "2022-08-22T04:02:03.805169Z",
     "iopub.status.busy": "2022-08-22T04:02:03.803721Z",
     "iopub.status.idle": "2022-08-22T04:02:03.820487Z",
     "shell.execute_reply": "2022-08-22T04:02:03.819220Z"
    },
    "id": "AaX6mdy5bvok",
    "outputId": "b9e13d2d-cf08-4397-a3e8-44ffd5216361",
    "papermill": {
     "duration": 0.04655,
     "end_time": "2022-08-22T04:02:03.823570",
     "exception": false,
     "start_time": "2022-08-22T04:02:03.777020",
     "status": "completed"
    },
    "tags": []
   },
   "outputs": [
    {
     "data": {
      "text/plain": [
       "array([' Adm-clerical', ' Exec-managerial', ' Handlers-cleaners',\n",
       "       ' Prof-specialty', ' Other-service', ' Sales', ' Craft-repair',\n",
       "       ' Transport-moving', ' Farming-fishing', ' Machine-op-inspct',\n",
       "       ' Tech-support', ' Protective-serv', ' Armed-Forces',\n",
       "       ' Priv-house-serv'], dtype=object)"
      ]
     },
     "execution_count": 19,
     "metadata": {},
     "output_type": "execute_result"
    }
   ],
   "source": [
    "data['occupation'].unique()"
   ]
  },
  {
   "cell_type": "code",
   "execution_count": 20,
   "id": "fcf03327",
   "metadata": {
    "ExecuteTime": {
     "end_time": "2022-11-18T07:02:47.617010Z",
     "start_time": "2022-11-18T07:02:47.352635Z"
    },
    "execution": {
     "iopub.execute_input": "2022-08-22T04:02:03.876693Z",
     "iopub.status.busy": "2022-08-22T04:02:03.875862Z",
     "iopub.status.idle": "2022-08-22T04:02:04.536208Z",
     "shell.execute_reply": "2022-08-22T04:02:04.534912Z"
    },
    "id": "H-Q1cuFPbGGd",
    "outputId": "565185e6-9f75-40cd-c60d-3b3a1c0a7126",
    "papermill": {
     "duration": 0.690828,
     "end_time": "2022-08-22T04:02:04.539470",
     "exception": false,
     "start_time": "2022-08-22T04:02:03.848642",
     "status": "completed"
    },
    "tags": []
   },
   "outputs": [
    {
     "data": {
      "text/plain": [
       "<matplotlib.legend.Legend at 0x20a726335c8>"
      ]
     },
     "execution_count": 20,
     "metadata": {},
     "output_type": "execute_result"
    },
    {
     "data": {
      "image/png": "[encoded data removed]",
      "text/plain": [
       "<Figure size 1080x504 with 1 Axes>"
      ]
     },
     "metadata": {
      "needs_background": "light"
     },
     "output_type": "display_data"
    }
   ],
   "source": [
    "plt.figure(figsize=(15,7))\n",
    "ax=sns.countplot(data=data, x= 'occupation', hue='income')\n",
    "ax.set_xticklabels(ax.get_xticklabels(),rotation=60)\n",
    "plt.legend(['<=50K', '>50K'])"
   ]
  },
  {
   "cell_type": "markdown",
   "id": "f1920d39",
   "metadata": {},
   "source": [
    "<h3> Observation: </h3>\n",
    "\n",
    "A few points to note over here:-\n",
    "\n",
    "* Adults in **Exec-managerial** role are equally likely to earn more than **50K** dollars an year. \n",
    "* There's close to **33%** probablity for an adult in **Prof-specialty** to earn more than **50K** dollars an year.\n",
    "* Adults working in **Farming-fishing**, **Machine-op-inspect**, **Other-service**, **Adm-clerical**, **Transport-moving** are very less likely to earn more than **50K** dollars an year.\n",
    "* Around **25%** of the people working in **Sales** earn more than **50K** dollars an year."
   ]
  },
  {
   "cell_type": "code",
   "execution_count": 21,
   "id": "f374e064",
   "metadata": {
    "ExecuteTime": {
     "end_time": "2022-11-18T07:02:47.632930Z",
     "start_time": "2022-11-18T07:02:47.618966Z"
    },
    "execution": {
     "iopub.execute_input": "2022-08-22T04:02:04.593329Z",
     "iopub.status.busy": "2022-08-22T04:02:04.592749Z",
     "iopub.status.idle": "2022-08-22T04:02:04.604073Z",
     "shell.execute_reply": "2022-08-22T04:02:04.603167Z"
    },
    "id": "jXOkv5dwcC8g",
    "outputId": "6fb170e6-2861-41b3-e3c1-1a17bc40098f",
    "papermill": {
     "duration": 0.040896,
     "end_time": "2022-08-22T04:02:04.606536",
     "exception": false,
     "start_time": "2022-08-22T04:02:04.565640",
     "status": "completed"
    },
    "tags": []
   },
   "outputs": [
    {
     "data": {
      "text/plain": [
       "array([' Not-in-family', ' Husband', ' Wife', ' Own-child', ' Unmarried',\n",
       "       ' Other-relative'], dtype=object)"
      ]
     },
     "execution_count": 21,
     "metadata": {},
     "output_type": "execute_result"
    }
   ],
   "source": [
    "data['relationship'].unique()"
   ]
  },
  {
   "cell_type": "code",
   "execution_count": 22,
   "id": "353083f5",
   "metadata": {
    "ExecuteTime": {
     "end_time": "2022-11-18T07:02:47.819987Z",
     "start_time": "2022-11-18T07:02:47.634896Z"
    },
    "execution": {
     "iopub.execute_input": "2022-08-22T04:02:04.666875Z",
     "iopub.status.busy": "2022-08-22T04:02:04.666151Z",
     "iopub.status.idle": "2022-08-22T04:02:04.981447Z",
     "shell.execute_reply": "2022-08-22T04:02:04.980361Z"
    },
    "id": "e6FzJb778eQL",
    "outputId": "06f241e0-7eda-4f49-fcbe-1c1c0176502a",
    "papermill": {
     "duration": 0.352157,
     "end_time": "2022-08-22T04:02:04.984440",
     "exception": false,
     "start_time": "2022-08-22T04:02:04.632283",
     "status": "completed"
    },
    "tags": []
   },
   "outputs": [
    {
     "data": {
      "text/plain": [
       "<matplotlib.legend.Legend at 0x20a7262d508>"
      ]
     },
     "execution_count": 22,
     "metadata": {},
     "output_type": "execute_result"
    },
    {
     "data": {
      "image/png": "[encoded data removed]",
      "text/plain": [
       "<Figure size 1080x504 with 1 Axes>"
      ]
     },
     "metadata": {
      "needs_background": "light"
     },
     "output_type": "display_data"
    }
   ],
   "source": [
    "plt.figure(figsize=(15,7))\n",
    "ax=sns.countplot(data=data, x= 'relationship', hue='income')\n",
    "plt.legend(['<=50K', '>50K'])"
   ]
  },
  {
   "cell_type": "markdown",
   "id": "ccf4ea1d",
   "metadata": {},
   "source": [
    "<h3> Observation: </h3>\n",
    "\n",
    "* **Wives** are equally likely to earn more than **50K** dollars an year.\n",
    "* For **Husbands**, although significant, there is less possibility of them to earn more than **50K** dollars an year.\n",
    "* There are just a handful of **Unmarried** people earning more than **50K** dollars an year.\n"
   ]
  },
  {
   "cell_type": "code",
   "execution_count": 23,
   "id": "dc43f6cf",
   "metadata": {
    "ExecuteTime": {
     "end_time": "2022-11-18T07:02:47.835903Z",
     "start_time": "2022-11-18T07:02:47.825972Z"
    },
    "execution": {
     "iopub.execute_input": "2022-08-22T04:02:05.045762Z",
     "iopub.status.busy": "2022-08-22T04:02:05.044897Z",
     "iopub.status.idle": "2022-08-22T04:02:05.058023Z",
     "shell.execute_reply": "2022-08-22T04:02:05.056926Z"
    },
    "id": "M-iVVCMSdIdd",
    "outputId": "fa32cdd9-ecc6-425b-8197-e5d768540118",
    "papermill": {
     "duration": 0.044058,
     "end_time": "2022-08-22T04:02:05.060620",
     "exception": false,
     "start_time": "2022-08-22T04:02:05.016562",
     "status": "completed"
    },
    "tags": []
   },
   "outputs": [
    {
     "data": {
      "text/plain": [
       "array([' Male', ' Female'], dtype=object)"
      ]
     },
     "execution_count": 23,
     "metadata": {},
     "output_type": "execute_result"
    }
   ],
   "source": [
    "data['gender'].unique()"
   ]
  },
  {
   "cell_type": "code",
   "execution_count": 24,
   "id": "189d8cc8",
   "metadata": {
    "ExecuteTime": {
     "end_time": "2022-11-18T07:02:48.009481Z",
     "start_time": "2022-11-18T07:02:47.838938Z"
    },
    "execution": {
     "iopub.execute_input": "2022-08-22T04:02:05.117020Z",
     "iopub.status.busy": "2022-08-22T04:02:05.116009Z",
     "iopub.status.idle": "2022-08-22T04:02:05.391707Z",
     "shell.execute_reply": "2022-08-22T04:02:05.390719Z"
    },
    "id": "VvZtbX91eCFi",
    "outputId": "b33d8adc-ab5e-481b-f31a-a2b412d3cb60",
    "papermill": {
     "duration": 0.307648,
     "end_time": "2022-08-22T04:02:05.395022",
     "exception": false,
     "start_time": "2022-08-22T04:02:05.087374",
     "status": "completed"
    },
    "tags": []
   },
   "outputs": [
    {
     "data": {
      "text/plain": [
       "<matplotlib.legend.Legend at 0x20a74d95248>"
      ]
     },
     "execution_count": 24,
     "metadata": {},
     "output_type": "execute_result"
    },
    {
     "data": {
      "image/png": "[encoded data removed]",
      "text/plain": [
       "<Figure size 1080x504 with 1 Axes>"
      ]
     },
     "metadata": {
      "needs_background": "light"
     },
     "output_type": "display_data"
    }
   ],
   "source": [
    "plt.figure(figsize=(15,7))\n",
    "ax=sns.countplot(data=data, x='gender', hue='income')\n",
    "plt.legend(['<=50K', '>50K'])"
   ]
  },
  {
   "cell_type": "markdown",
   "id": "daf7079c",
   "metadata": {},
   "source": [
    "<h3> Observation: </h3>\n",
    "\n",
    "We can see a significant gap in the earnings between males and females over here. \n",
    "\n",
    "* For **Females**, there are less than **10%** of the adults earning more than **50K** dollars an year.\n",
    "* In case of **Males** there are close to **33%** of them earning more than **50K** dollars an year."
   ]
  },
  {
   "cell_type": "code",
   "execution_count": 25,
   "id": "d58a3d62",
   "metadata": {
    "ExecuteTime": {
     "end_time": "2022-11-18T07:02:48.024838Z",
     "start_time": "2022-11-18T07:02:48.010478Z"
    },
    "execution": {
     "iopub.execute_input": "2022-08-22T04:02:05.461374Z",
     "iopub.status.busy": "2022-08-22T04:02:05.460483Z",
     "iopub.status.idle": "2022-08-22T04:02:05.473739Z",
     "shell.execute_reply": "2022-08-22T04:02:05.472390Z"
    },
    "id": "JgCGqtoGeNeK",
    "outputId": "d8b6fda6-12aa-43f7-aa69-df4e3905cb78",
    "papermill": {
     "duration": 0.045471,
     "end_time": "2022-08-22T04:02:05.476648",
     "exception": false,
     "start_time": "2022-08-22T04:02:05.431177",
     "status": "completed"
    },
    "tags": []
   },
   "outputs": [
    {
     "data": {
      "text/plain": [
       "array([' United-States', ' Cuba', ' Jamaica', ' India', ' Mexico',\n",
       "       ' South', ' Puerto-Rico', ' Honduras', ' England', ' Canada',\n",
       "       ' Germany', ' Iran', ' Philippines', ' Italy', ' Poland',\n",
       "       ' Columbia', ' Cambodia', ' Thailand', ' Ecuador', ' Laos',\n",
       "       ' Taiwan', ' Haiti', ' Portugal', ' Dominican-Republic',\n",
       "       ' El-Salvador', ' France', ' Guatemala', ' China', ' Japan',\n",
       "       ' Yugoslavia', ' Peru', ' Outlying-US(Guam-USVI-etc)', ' Scotland',\n",
       "       ' Trinadad&Tobago', ' Greece', ' Nicaragua', ' Vietnam', ' Hong',\n",
       "       ' Ireland', ' Hungary', ' Holand-Netherlands'], dtype=object)"
      ]
     },
     "execution_count": 25,
     "metadata": {},
     "output_type": "execute_result"
    }
   ],
   "source": [
    "data['native-country'].unique()"
   ]
  },
  {
   "cell_type": "code",
   "execution_count": 26,
   "id": "7152d7f5",
   "metadata": {
    "ExecuteTime": {
     "end_time": "2022-11-18T07:02:48.446474Z",
     "start_time": "2022-11-18T07:02:48.025898Z"
    },
    "execution": {
     "iopub.execute_input": "2022-08-22T04:02:05.533566Z",
     "iopub.status.busy": "2022-08-22T04:02:05.532642Z",
     "iopub.status.idle": "2022-08-22T04:02:06.350053Z",
     "shell.execute_reply": "2022-08-22T04:02:06.348531Z"
    },
    "id": "ckULTnWK9kO1",
    "outputId": "9bea7c0b-bd7e-43b8-b2bc-e72100e55f30",
    "papermill": {
     "duration": 0.849401,
     "end_time": "2022-08-22T04:02:06.353230",
     "exception": false,
     "start_time": "2022-08-22T04:02:05.503829",
     "status": "completed"
    },
    "tags": []
   },
   "outputs": [
    {
     "data": {
      "image/png": "[encoded data removed]",
      "text/plain": [
       "<Figure size 1080x504 with 1 Axes>"
      ]
     },
     "metadata": {
      "needs_background": "light"
     },
     "output_type": "display_data"
    }
   ],
   "source": [
    "plt.figure(figsize=(15,7))\n",
    "ax=sns.countplot(data=data, x='native-country',hue='income')\n",
    "ax.set_xticklabels(ax.get_xticklabels(),rotation=60)\n",
    "plt.legend(['<=50K', '>50K'])\n",
    "plt.show()"
   ]
  },
  {
   "cell_type": "markdown",
   "id": "093d82bd",
   "metadata": {},
   "source": [
    "<h3> Observation: </h3>\n",
    "\n",
    "An important point to notice over here is that, except **Whites** there are very few people of different races. Due to this one may fail to notice the exact percentage and relationship of people earning more than 50K dollars an year. "
   ]
  },
  {
   "cell_type": "code",
   "execution_count": null,
   "id": "27e9c70a",
   "metadata": {},
   "outputs": [],
   "source": []
  },
  {
   "cell_type": "code",
   "execution_count": 27,
   "id": "fd73b356",
   "metadata": {
    "ExecuteTime": {
     "end_time": "2022-11-18T07:02:48.556182Z",
     "start_time": "2022-11-18T07:02:48.448427Z"
    },
    "execution": {
     "iopub.execute_input": "2022-08-22T04:01:59.976575Z",
     "iopub.status.busy": "2022-08-22T04:01:59.975720Z",
     "iopub.status.idle": "2022-08-22T04:02:00.139979Z",
     "shell.execute_reply": "2022-08-22T04:02:00.138981Z"
    },
    "id": "GAH-VYL3XV2K",
    "outputId": "f564f28f-6753-46e1-dc66-d5c7213c7aae",
    "papermill": {
     "duration": 0.187552,
     "end_time": "2022-08-22T04:02:00.142650",
     "exception": false,
     "start_time": "2022-08-22T04:01:59.955098",
     "status": "completed"
    },
    "tags": []
   },
   "outputs": [
    {
     "data": {
      "text/plain": [
       "<AxesSubplot:xlabel='income', ylabel='age'>"
      ]
     },
     "execution_count": 27,
     "metadata": {},
     "output_type": "execute_result"
    },
    {
     "data": {
      "image/png": "[encoded data removed]",
      "text/plain": [
       "<Figure size 432x288 with 1 Axes>"
      ]
     },
     "metadata": {
      "needs_background": "light"
     },
     "output_type": "display_data"
    }
   ],
   "source": [
    "sns.boxplot(data=data, x='income', y='age')"
   ]
  },
  {
   "cell_type": "markdown",
   "id": "f1d03710",
   "metadata": {},
   "source": [
    "<h3> Observation: </h3>\n",
    "\n",
    "* People earning **>50K** are more aged at an aggregate level compared to people earning **<=50K**."
   ]
  },
  {
   "cell_type": "code",
   "execution_count": 28,
   "id": "475a4f25",
   "metadata": {
    "ExecuteTime": {
     "end_time": "2022-11-18T07:02:48.666890Z",
     "start_time": "2022-11-18T07:02:48.558133Z"
    },
    "execution": {
     "iopub.execute_input": "2022-08-22T04:02:00.184607Z",
     "iopub.status.busy": "2022-08-22T04:02:00.184150Z",
     "iopub.status.idle": "2022-08-22T04:02:00.362636Z",
     "shell.execute_reply": "2022-08-22T04:02:00.361495Z"
    },
    "id": "feAhz51HS3eU",
    "outputId": "f1cc6ec2-1251-410f-ff08-b9273031234d",
    "papermill": {
     "duration": 0.202134,
     "end_time": "2022-08-22T04:02:00.365107",
     "exception": false,
     "start_time": "2022-08-22T04:02:00.162973",
     "status": "completed"
    },
    "tags": []
   },
   "outputs": [
    {
     "data": {
      "text/plain": [
       "<AxesSubplot:xlabel='income', ylabel='fnlwgt'>"
      ]
     },
     "execution_count": 28,
     "metadata": {},
     "output_type": "execute_result"
    },
    {
     "data": {
      "image/png": "[encoded data removed]",
      "text/plain": [
       "<Figure size 432x288 with 1 Axes>"
      ]
     },
     "metadata": {
      "needs_background": "light"
     },
     "output_type": "display_data"
    }
   ],
   "source": [
    "sns.boxplot(data=data, x='income', y='fnlwgt')"
   ]
  },
  {
   "cell_type": "markdown",
   "id": "489025a4",
   "metadata": {},
   "source": [
    "<h3> Observation: </h3>\n",
    "\n",
    "* The 'fnlwgt' is similar for people earning **>50K** as well as people earning **<=50K**."
   ]
  },
  {
   "cell_type": "code",
   "execution_count": 29,
   "id": "2ff832bf",
   "metadata": {
    "ExecuteTime": {
     "end_time": "2022-11-18T07:02:48.809507Z",
     "start_time": "2022-11-18T07:02:48.667882Z"
    },
    "execution": {
     "iopub.execute_input": "2022-08-22T04:02:00.407773Z",
     "iopub.status.busy": "2022-08-22T04:02:00.406944Z",
     "iopub.status.idle": "2022-08-22T04:02:00.595904Z",
     "shell.execute_reply": "2022-08-22T04:02:00.594469Z"
    },
    "id": "ezIu_4KwTZRT",
    "outputId": "1754ee97-fd22-43d3-cbe5-921666813bc5",
    "papermill": {
     "duration": 0.214103,
     "end_time": "2022-08-22T04:02:00.599537",
     "exception": false,
     "start_time": "2022-08-22T04:02:00.385434",
     "status": "completed"
    },
    "tags": []
   },
   "outputs": [
    {
     "data": {
      "text/plain": [
       "<AxesSubplot:xlabel='income', ylabel='educational-num'>"
      ]
     },
     "execution_count": 29,
     "metadata": {},
     "output_type": "execute_result"
    },
    {
     "data": {
      "image/png": "[encoded data removed]",
      "text/plain": [
       "<Figure size 432x288 with 1 Axes>"
      ]
     },
     "metadata": {
      "needs_background": "light"
     },
     "output_type": "display_data"
    }
   ],
   "source": [
    "sns.boxplot(data=data, x='income', y='educational-num')"
   ]
  },
  {
   "cell_type": "markdown",
   "id": "33ec3ead",
   "metadata": {},
   "source": [
    "<h3> Observation: </h3>\n",
    "\n",
    "* People earning **>50K** are more educated at an aggregate level compared to people earning **<=50K**."
   ]
  },
  {
   "cell_type": "code",
   "execution_count": 30,
   "id": "29f5aa86",
   "metadata": {
    "ExecuteTime": {
     "end_time": "2022-11-18T07:02:48.921206Z",
     "start_time": "2022-11-18T07:02:48.810502Z"
    },
    "execution": {
     "iopub.execute_input": "2022-08-22T04:02:00.642043Z",
     "iopub.status.busy": "2022-08-22T04:02:00.641604Z",
     "iopub.status.idle": "2022-08-22T04:02:00.825805Z",
     "shell.execute_reply": "2022-08-22T04:02:00.824402Z"
    },
    "id": "Piq3_qx8UVGx",
    "outputId": "9b2011ce-e32c-4591-e299-e33eaed27704",
    "papermill": {
     "duration": 0.209497,
     "end_time": "2022-08-22T04:02:00.829464",
     "exception": false,
     "start_time": "2022-08-22T04:02:00.619967",
     "status": "completed"
    },
    "tags": []
   },
   "outputs": [
    {
     "data": {
      "text/plain": [
       "<AxesSubplot:xlabel='income', ylabel='capital-gain'>"
      ]
     },
     "execution_count": 30,
     "metadata": {},
     "output_type": "execute_result"
    },
    {
     "data": {
      "image/png": "[encoded data removed]",
      "text/plain": [
       "<Figure size 432x288 with 1 Axes>"
      ]
     },
     "metadata": {
      "needs_background": "light"
     },
     "output_type": "display_data"
    }
   ],
   "source": [
    "sns.boxplot(data=data, x='income', y='capital-gain')\n"
   ]
  },
  {
   "cell_type": "markdown",
   "id": "263f7d6c",
   "metadata": {},
   "source": [
    "<h3> Observation: </h3>\n",
    "\n",
    "* The capital gaim looks similar for People earning **>50K** as well as people earning **<=50K**.\n",
    "* However, there are more outliers with extremely high capital gains within the **>50K** group"
   ]
  },
  {
   "cell_type": "code",
   "execution_count": 31,
   "id": "10ba25d9",
   "metadata": {
    "ExecuteTime": {
     "end_time": "2022-11-18T07:02:49.031728Z",
     "start_time": "2022-11-18T07:02:48.922227Z"
    },
    "execution": {
     "iopub.execute_input": "2022-08-22T04:02:00.879574Z",
     "iopub.status.busy": "2022-08-22T04:02:00.878538Z",
     "iopub.status.idle": "2022-08-22T04:02:01.042292Z",
     "shell.execute_reply": "2022-08-22T04:02:01.041373Z"
    },
    "id": "AmmVoxq6UzsW",
    "outputId": "6286da61-22e5-4cf8-93f7-e4b7471a342f",
    "papermill": {
     "duration": 0.192597,
     "end_time": "2022-08-22T04:02:01.045025",
     "exception": false,
     "start_time": "2022-08-22T04:02:00.852428",
     "status": "completed"
    },
    "scrolled": true,
    "tags": []
   },
   "outputs": [
    {
     "data": {
      "text/plain": [
       "<AxesSubplot:xlabel='income', ylabel='capital-loss'>"
      ]
     },
     "execution_count": 31,
     "metadata": {},
     "output_type": "execute_result"
    },
    {
     "data": {
      "image/png": "[encoded data removed]",
      "text/plain": [
       "<Figure size 432x288 with 1 Axes>"
      ]
     },
     "metadata": {
      "needs_background": "light"
     },
     "output_type": "display_data"
    }
   ],
   "source": [
    "sns.boxplot(data=data, x='income', y='capital-loss')"
   ]
  },
  {
   "cell_type": "markdown",
   "id": "958b83a2",
   "metadata": {},
   "source": [
    "<h3> Observation: </h3>\n",
    "\n",
    "* The capital loss looks similar for People earning **>50K** as well as people earning **<=50K**.\n",
    "* However, there are more outliers with high capital loss within the **<=50K** group"
   ]
  },
  {
   "cell_type": "code",
   "execution_count": 32,
   "id": "871c0a35",
   "metadata": {
    "ExecuteTime": {
     "end_time": "2022-11-18T07:02:49.156447Z",
     "start_time": "2022-11-18T07:02:49.032771Z"
    },
    "execution": {
     "iopub.execute_input": "2022-08-22T04:02:01.092746Z",
     "iopub.status.busy": "2022-08-22T04:02:01.092233Z",
     "iopub.status.idle": "2022-08-22T04:02:01.289745Z",
     "shell.execute_reply": "2022-08-22T04:02:01.288380Z"
    },
    "id": "XNj5DtalVWMB",
    "outputId": "206a71aa-6369-4273-86df-b376fed43614",
    "papermill": {
     "duration": 0.224338,
     "end_time": "2022-08-22T04:02:01.292828",
     "exception": false,
     "start_time": "2022-08-22T04:02:01.068490",
     "status": "completed"
    },
    "tags": []
   },
   "outputs": [
    {
     "data": {
      "text/plain": [
       "<AxesSubplot:xlabel='income', ylabel='hours-per-week'>"
      ]
     },
     "execution_count": 32,
     "metadata": {},
     "output_type": "execute_result"
    },
    {
     "data": {
      "image/png": "[encoded data removed]",
      "text/plain": [
       "<Figure size 432x288 with 1 Axes>"
      ]
     },
     "metadata": {
      "needs_background": "light"
     },
     "output_type": "display_data"
    }
   ],
   "source": [
    "sns.boxplot(data=data, x='income', y='hours-per-week')"
   ]
  },
  {
   "cell_type": "markdown",
   "id": "069279b3",
   "metadata": {},
   "source": [
    "<h3> Observation: </h3>\n",
    "\n",
    "* People earning **>50K** work more hours per week at an aggregate level compared to people earning **<=50K**."
   ]
  },
  {
   "cell_type": "code",
   "execution_count": 33,
   "id": "f6abae41",
   "metadata": {
    "ExecuteTime": {
     "end_time": "2022-11-18T07:02:49.172400Z",
     "start_time": "2022-11-18T07:02:49.157439Z"
    },
    "execution": {
     "iopub.execute_input": "2022-08-22T04:02:01.339390Z",
     "iopub.status.busy": "2022-08-22T04:02:01.338867Z",
     "iopub.status.idle": "2022-08-22T04:02:01.351056Z",
     "shell.execute_reply": "2022-08-22T04:02:01.349727Z"
    },
    "id": "huF04tgtSyPV",
    "outputId": "9534a16f-da22-4565-8931-9640a4102d16",
    "papermill": {
     "duration": 0.039345,
     "end_time": "2022-08-22T04:02:01.354415",
     "exception": false,
     "start_time": "2022-08-22T04:02:01.315070",
     "status": "completed"
    },
    "tags": []
   },
   "outputs": [
    {
     "data": {
      "text/plain": [
       "array([' <=50K', ' >50K'], dtype=object)"
      ]
     },
     "execution_count": 33,
     "metadata": {},
     "output_type": "execute_result"
    }
   ],
   "source": [
    "data.income.unique()"
   ]
  },
  {
   "cell_type": "code",
   "execution_count": 34,
   "id": "3328ae7f",
   "metadata": {
    "ExecuteTime": {
     "end_time": "2022-11-18T07:02:49.203689Z",
     "start_time": "2022-11-18T07:02:49.173393Z"
    },
    "execution": {
     "iopub.execute_input": "2022-08-22T04:02:01.573350Z",
     "iopub.status.busy": "2022-08-22T04:02:01.572857Z",
     "iopub.status.idle": "2022-08-22T04:02:01.609435Z",
     "shell.execute_reply": "2022-08-22T04:02:01.608153Z"
    },
    "id": "q94UhPirTS1D",
    "papermill": {
     "duration": 0.063905,
     "end_time": "2022-08-22T04:02:01.612623",
     "exception": false,
     "start_time": "2022-08-22T04:02:01.548718",
     "status": "completed"
    },
    "tags": []
   },
   "outputs": [
    {
     "data": {
      "text/plain": [
       "array([0, 1], dtype=int64)"
      ]
     },
     "execution_count": 34,
     "metadata": {},
     "output_type": "execute_result"
    }
   ],
   "source": [
    "# Transforming categorical values of Incomem variable into numerical values \n",
    "data['income']=data['income'].replace([' <=50K', ' >50K'],[0,1])\n",
    "data.income.unique()"
   ]
  },
  {
   "cell_type": "markdown",
   "id": "20d9f79d",
   "metadata": {},
   "source": [
    "> * Class `<=50K` is represented as 0\n",
    "> * Class `>50K` is represented as 1"
   ]
  },
  {
   "cell_type": "code",
   "execution_count": 35,
   "id": "0c725506",
   "metadata": {
    "ExecuteTime": {
     "end_time": "2022-11-18T07:02:49.553290Z",
     "start_time": "2022-11-18T07:02:49.204691Z"
    },
    "execution": {
     "iopub.execute_input": "2022-08-22T04:02:01.725707Z",
     "iopub.status.busy": "2022-08-22T04:02:01.725157Z",
     "iopub.status.idle": "2022-08-22T04:02:02.258430Z",
     "shell.execute_reply": "2022-08-22T04:02:02.257415Z"
    },
    "id": "uZRIpZ5aY9GH",
    "outputId": "93220d4f-cfa1-460c-ed7d-09e5e153e18f",
    "papermill": {
     "duration": 0.562299,
     "end_time": "2022-08-22T04:02:02.261603",
     "exception": false,
     "start_time": "2022-08-22T04:02:01.699304",
     "status": "completed"
    },
    "tags": []
   },
   "outputs": [
    {
     "data": {
      "text/plain": [
       "<AxesSubplot:>"
      ]
     },
     "execution_count": 35,
     "metadata": {},
     "output_type": "execute_result"
    },
    {
     "data": {
      "image/png": "[encoded data removed]",
      "text/plain": [
       "<Figure size 576x432 with 2 Axes>"
      ]
     },
     "metadata": {
      "needs_background": "light"
     },
     "output_type": "display_data"
    }
   ],
   "source": [
    "plt.figure(figsize=(8,6))\n",
    "sns.heatmap(data.corr(),annot=True,cmap='Reds')"
   ]
  },
  {
   "cell_type": "markdown",
   "id": "718252d5",
   "metadata": {},
   "source": [
    "<h3> Observation: </h3>\n",
    "\n",
    "Here, we have tried to plot a correlation map in order to see whether or not the independent features are related to the dependent features.\n",
    "\n",
    "* We see that most of the features are positively correlated with the **Income Variable**.\n",
    "* An important thing to note over here is that, we have not covered the object datatypes in this correlation graph. "
   ]
  },
  {
   "cell_type": "code",
   "execution_count": null,
   "id": "e6ccc856",
   "metadata": {},
   "outputs": [],
   "source": []
  },
  {
   "cell_type": "markdown",
   "id": "e705086e",
   "metadata": {
    "id": "0P3fODZrfPQf",
    "papermill": {
     "duration": 0.026791,
     "end_time": "2022-08-22T04:02:06.407779",
     "exception": false,
     "start_time": "2022-08-22T04:02:06.380988",
     "status": "completed"
    },
    "tags": []
   },
   "source": [
    "# Data Preparation"
   ]
  },
  {
   "cell_type": "code",
   "execution_count": 36,
   "id": "188d09b4",
   "metadata": {
    "ExecuteTime": {
     "end_time": "2022-11-18T07:02:49.569252Z",
     "start_time": "2022-11-18T07:02:49.554341Z"
    },
    "execution": {
     "iopub.execute_input": "2022-08-22T04:02:06.464817Z",
     "iopub.status.busy": "2022-08-22T04:02:06.464377Z",
     "iopub.status.idle": "2022-08-22T04:02:06.479377Z",
     "shell.execute_reply": "2022-08-22T04:02:06.478534Z"
    },
    "id": "SDegwrXxUrpE",
    "papermill": {
     "duration": 0.045962,
     "end_time": "2022-08-22T04:02:06.481822",
     "exception": false,
     "start_time": "2022-08-22T04:02:06.435860",
     "status": "completed"
    },
    "tags": []
   },
   "outputs": [],
   "source": [
    "# Creating 'x' with only input features\n",
    "x=data.drop(['income'],axis=1)"
   ]
  },
  {
   "cell_type": "code",
   "execution_count": 37,
   "id": "2aa767dc",
   "metadata": {
    "ExecuteTime": {
     "end_time": "2022-11-18T07:02:49.584463Z",
     "start_time": "2022-11-18T07:02:49.572270Z"
    },
    "execution": {
     "iopub.execute_input": "2022-08-22T04:02:07.215239Z",
     "iopub.status.busy": "2022-08-22T04:02:07.214464Z",
     "iopub.status.idle": "2022-08-22T04:02:07.219000Z",
     "shell.execute_reply": "2022-08-22T04:02:07.218262Z"
    },
    "id": "ksXIBIU_BRFH",
    "papermill": {
     "duration": 0.036229,
     "end_time": "2022-08-22T04:02:07.221046",
     "exception": false,
     "start_time": "2022-08-22T04:02:07.184817",
     "status": "completed"
    },
    "tags": []
   },
   "outputs": [],
   "source": [
    "# Creating 'y' with only target variable\n",
    "y=data.income"
   ]
  },
  {
   "cell_type": "code",
   "execution_count": 38,
   "id": "20caab24",
   "metadata": {
    "ExecuteTime": {
     "end_time": "2022-11-18T07:02:49.600216Z",
     "start_time": "2022-11-18T07:02:49.586242Z"
    },
    "execution": {
     "iopub.execute_input": "2022-08-22T04:02:06.538444Z",
     "iopub.status.busy": "2022-08-22T04:02:06.537296Z",
     "iopub.status.idle": "2022-08-22T04:02:06.554442Z",
     "shell.execute_reply": "2022-08-22T04:02:06.553341Z"
    },
    "id": "5oaemiwtVs2-",
    "outputId": "848f259f-0238-4af8-ccac-a2665786195c",
    "papermill": {
     "duration": 0.047887,
     "end_time": "2022-08-22T04:02:06.556687",
     "exception": false,
     "start_time": "2022-08-22T04:02:06.508800",
     "status": "completed"
    },
    "tags": []
   },
   "outputs": [
    {
     "data": {
      "text/html": [
       "<div>\n",
       "<style scoped>\n",
       "    .dataframe tbody tr th:only-of-type {\n",
       "        vertical-align: middle;\n",
       "    }\n",
       "\n",
       "    .dataframe tbody tr th {\n",
       "        vertical-align: top;\n",
       "    }\n",
       "\n",
       "    .dataframe thead th {\n",
       "        text-align: right;\n",
       "    }\n",
       "</style>\n",
       "<table border=\"1\" class=\"dataframe\">\n",
       "  <thead>\n",
       "    <tr style=\"text-align: right;\">\n",
       "      <th></th>\n",
       "      <th>age</th>\n",
       "      <th>workclass</th>\n",
       "      <th>fnlwgt</th>\n",
       "      <th>education</th>\n",
       "      <th>educational-num</th>\n",
       "      <th>marital-status</th>\n",
       "      <th>occupation</th>\n",
       "      <th>relationship</th>\n",
       "      <th>race</th>\n",
       "      <th>gender</th>\n",
       "      <th>capital-gain</th>\n",
       "      <th>capital-loss</th>\n",
       "      <th>hours-per-week</th>\n",
       "      <th>native-country</th>\n",
       "    </tr>\n",
       "  </thead>\n",
       "  <tbody>\n",
       "    <tr>\n",
       "      <th>0</th>\n",
       "      <td>39</td>\n",
       "      <td>State-gov</td>\n",
       "      <td>77516</td>\n",
       "      <td>Bachelors</td>\n",
       "      <td>13</td>\n",
       "      <td>Never-married</td>\n",
       "      <td>Adm-clerical</td>\n",
       "      <td>Not-in-family</td>\n",
       "      <td>White</td>\n",
       "      <td>Male</td>\n",
       "      <td>2174</td>\n",
       "      <td>0</td>\n",
       "      <td>40</td>\n",
       "      <td>United-States</td>\n",
       "    </tr>\n",
       "    <tr>\n",
       "      <th>1</th>\n",
       "      <td>50</td>\n",
       "      <td>Self-emp-not-inc</td>\n",
       "      <td>83311</td>\n",
       "      <td>Bachelors</td>\n",
       "      <td>13</td>\n",
       "      <td>Married-civ-spouse</td>\n",
       "      <td>Exec-managerial</td>\n",
       "      <td>Husband</td>\n",
       "      <td>White</td>\n",
       "      <td>Male</td>\n",
       "      <td>0</td>\n",
       "      <td>0</td>\n",
       "      <td>13</td>\n",
       "      <td>United-States</td>\n",
       "    </tr>\n",
       "    <tr>\n",
       "      <th>2</th>\n",
       "      <td>38</td>\n",
       "      <td>Private</td>\n",
       "      <td>215646</td>\n",
       "      <td>HS-grad</td>\n",
       "      <td>9</td>\n",
       "      <td>Divorced</td>\n",
       "      <td>Handlers-cleaners</td>\n",
       "      <td>Not-in-family</td>\n",
       "      <td>White</td>\n",
       "      <td>Male</td>\n",
       "      <td>0</td>\n",
       "      <td>0</td>\n",
       "      <td>40</td>\n",
       "      <td>United-States</td>\n",
       "    </tr>\n",
       "    <tr>\n",
       "      <th>3</th>\n",
       "      <td>53</td>\n",
       "      <td>Private</td>\n",
       "      <td>234721</td>\n",
       "      <td>11th</td>\n",
       "      <td>7</td>\n",
       "      <td>Married-civ-spouse</td>\n",
       "      <td>Handlers-cleaners</td>\n",
       "      <td>Husband</td>\n",
       "      <td>Black</td>\n",
       "      <td>Male</td>\n",
       "      <td>0</td>\n",
       "      <td>0</td>\n",
       "      <td>40</td>\n",
       "      <td>United-States</td>\n",
       "    </tr>\n",
       "    <tr>\n",
       "      <th>4</th>\n",
       "      <td>28</td>\n",
       "      <td>Private</td>\n",
       "      <td>338409</td>\n",
       "      <td>Bachelors</td>\n",
       "      <td>13</td>\n",
       "      <td>Married-civ-spouse</td>\n",
       "      <td>Prof-specialty</td>\n",
       "      <td>Wife</td>\n",
       "      <td>Black</td>\n",
       "      <td>Female</td>\n",
       "      <td>0</td>\n",
       "      <td>0</td>\n",
       "      <td>40</td>\n",
       "      <td>Cuba</td>\n",
       "    </tr>\n",
       "  </tbody>\n",
       "</table>\n",
       "</div>"
      ],
      "text/plain": [
       "   age          workclass  fnlwgt   education  educational-num  \\\n",
       "0   39          State-gov   77516   Bachelors               13   \n",
       "1   50   Self-emp-not-inc   83311   Bachelors               13   \n",
       "2   38            Private  215646     HS-grad                9   \n",
       "3   53            Private  234721        11th                7   \n",
       "4   28            Private  338409   Bachelors               13   \n",
       "\n",
       "        marital-status          occupation    relationship    race   gender  \\\n",
       "0        Never-married        Adm-clerical   Not-in-family   White     Male   \n",
       "1   Married-civ-spouse     Exec-managerial         Husband   White     Male   \n",
       "2             Divorced   Handlers-cleaners   Not-in-family   White     Male   \n",
       "3   Married-civ-spouse   Handlers-cleaners         Husband   Black     Male   \n",
       "4   Married-civ-spouse      Prof-specialty            Wife   Black   Female   \n",
       "\n",
       "   capital-gain  capital-loss  hours-per-week  native-country  \n",
       "0          2174             0              40   United-States  \n",
       "1             0             0              13   United-States  \n",
       "2             0             0              40   United-States  \n",
       "3             0             0              40   United-States  \n",
       "4             0             0              40            Cuba  "
      ]
     },
     "execution_count": 38,
     "metadata": {},
     "output_type": "execute_result"
    }
   ],
   "source": [
    "# Viewing top 5 rows of input 'x'\n",
    "x.head()"
   ]
  },
  {
   "cell_type": "code",
   "execution_count": 39,
   "id": "9e01a2da",
   "metadata": {
    "ExecuteTime": {
     "end_time": "2022-11-18T07:02:49.616169Z",
     "start_time": "2022-11-18T07:02:49.601204Z"
    },
    "execution": {
     "iopub.execute_input": "2022-08-22T04:02:06.613556Z",
     "iopub.status.busy": "2022-08-22T04:02:06.612724Z",
     "iopub.status.idle": "2022-08-22T04:02:06.621734Z",
     "shell.execute_reply": "2022-08-22T04:02:06.620913Z"
    },
    "id": "0u-TlFLDgQis",
    "outputId": "7fc53cc5-ac0f-4bed-876c-41cb6a6e3e3c",
    "papermill": {
     "duration": 0.039828,
     "end_time": "2022-08-22T04:02:06.623856",
     "exception": false,
     "start_time": "2022-08-22T04:02:06.584028",
     "status": "completed"
    },
    "tags": []
   },
   "outputs": [
    {
     "data": {
      "text/plain": [
       "['age',\n",
       " 'fnlwgt',\n",
       " 'educational-num',\n",
       " 'capital-gain',\n",
       " 'capital-loss',\n",
       " 'hours-per-week']"
      ]
     },
     "execution_count": 39,
     "metadata": {},
     "output_type": "execute_result"
    }
   ],
   "source": [
    "# Selecting only Numerical columns in a list\n",
    "numericalcols=list(data.select_dtypes(exclude='object').columns)\n",
    "numericalcols.pop()\n",
    "numericalcols"
   ]
  },
  {
   "cell_type": "markdown",
   "id": "3731fac6",
   "metadata": {},
   "source": [
    "### Transforming Categorical columns\n",
    "\n",
    "* As the model can take only Numerical features. \n",
    "* We transform all non-numerical features into numerical using One Hot Encoding (Dummy encoding)"
   ]
  },
  {
   "cell_type": "code",
   "execution_count": 40,
   "id": "6b1af8d8",
   "metadata": {
    "ExecuteTime": {
     "end_time": "2022-11-18T07:02:49.664044Z",
     "start_time": "2022-11-18T07:02:49.618121Z"
    },
    "execution": {
     "iopub.execute_input": "2022-08-22T04:02:06.680986Z",
     "iopub.status.busy": "2022-08-22T04:02:06.680023Z",
     "iopub.status.idle": "2022-08-22T04:02:06.770412Z",
     "shell.execute_reply": "2022-08-22T04:02:06.769095Z"
    },
    "id": "tHijGwFOVV6J",
    "papermill": {
     "duration": 0.122053,
     "end_time": "2022-08-22T04:02:06.773414",
     "exception": false,
     "start_time": "2022-08-22T04:02:06.651361",
     "status": "completed"
    },
    "tags": []
   },
   "outputs": [],
   "source": [
    "# Transforming catgeorical features into Dummy encodings\n",
    "x=pd.get_dummies(x)"
   ]
  },
  {
   "cell_type": "code",
   "execution_count": 41,
   "id": "69b747db",
   "metadata": {
    "ExecuteTime": {
     "end_time": "2022-11-18T07:02:49.679991Z",
     "start_time": "2022-11-18T07:02:49.665038Z"
    },
    "execution": {
     "iopub.execute_input": "2022-08-22T04:02:06.832068Z",
     "iopub.status.busy": "2022-08-22T04:02:06.831604Z",
     "iopub.status.idle": "2022-08-22T04:02:06.851120Z",
     "shell.execute_reply": "2022-08-22T04:02:06.850271Z"
    },
    "id": "_3gESwDbVzj-",
    "outputId": "57d90f03-1e36-4d3e-bdfb-d611f46333ac",
    "papermill": {
     "duration": 0.052096,
     "end_time": "2022-08-22T04:02:06.853274",
     "exception": false,
     "start_time": "2022-08-22T04:02:06.801178",
     "status": "completed"
    },
    "tags": []
   },
   "outputs": [
    {
     "data": {
      "text/html": [
       "<div>\n",
       "<style scoped>\n",
       "    .dataframe tbody tr th:only-of-type {\n",
       "        vertical-align: middle;\n",
       "    }\n",
       "\n",
       "    .dataframe tbody tr th {\n",
       "        vertical-align: top;\n",
       "    }\n",
       "\n",
       "    .dataframe thead th {\n",
       "        text-align: right;\n",
       "    }\n",
       "</style>\n",
       "<table border=\"1\" class=\"dataframe\">\n",
       "  <thead>\n",
       "    <tr style=\"text-align: right;\">\n",
       "      <th></th>\n",
       "      <th>age</th>\n",
       "      <th>fnlwgt</th>\n",
       "      <th>educational-num</th>\n",
       "      <th>capital-gain</th>\n",
       "      <th>capital-loss</th>\n",
       "      <th>hours-per-week</th>\n",
       "      <th>workclass_ Federal-gov</th>\n",
       "      <th>workclass_ Local-gov</th>\n",
       "      <th>workclass_ Never-worked</th>\n",
       "      <th>workclass_ Private</th>\n",
       "      <th>...</th>\n",
       "      <th>native-country_ Portugal</th>\n",
       "      <th>native-country_ Puerto-Rico</th>\n",
       "      <th>native-country_ Scotland</th>\n",
       "      <th>native-country_ South</th>\n",
       "      <th>native-country_ Taiwan</th>\n",
       "      <th>native-country_ Thailand</th>\n",
       "      <th>native-country_ Trinadad&amp;Tobago</th>\n",
       "      <th>native-country_ United-States</th>\n",
       "      <th>native-country_ Vietnam</th>\n",
       "      <th>native-country_ Yugoslavia</th>\n",
       "    </tr>\n",
       "  </thead>\n",
       "  <tbody>\n",
       "    <tr>\n",
       "      <th>0</th>\n",
       "      <td>39</td>\n",
       "      <td>77516</td>\n",
       "      <td>13</td>\n",
       "      <td>2174</td>\n",
       "      <td>0</td>\n",
       "      <td>40</td>\n",
       "      <td>0</td>\n",
       "      <td>0</td>\n",
       "      <td>0</td>\n",
       "      <td>0</td>\n",
       "      <td>...</td>\n",
       "      <td>0</td>\n",
       "      <td>0</td>\n",
       "      <td>0</td>\n",
       "      <td>0</td>\n",
       "      <td>0</td>\n",
       "      <td>0</td>\n",
       "      <td>0</td>\n",
       "      <td>1</td>\n",
       "      <td>0</td>\n",
       "      <td>0</td>\n",
       "    </tr>\n",
       "    <tr>\n",
       "      <th>1</th>\n",
       "      <td>50</td>\n",
       "      <td>83311</td>\n",
       "      <td>13</td>\n",
       "      <td>0</td>\n",
       "      <td>0</td>\n",
       "      <td>13</td>\n",
       "      <td>0</td>\n",
       "      <td>0</td>\n",
       "      <td>0</td>\n",
       "      <td>0</td>\n",
       "      <td>...</td>\n",
       "      <td>0</td>\n",
       "      <td>0</td>\n",
       "      <td>0</td>\n",
       "      <td>0</td>\n",
       "      <td>0</td>\n",
       "      <td>0</td>\n",
       "      <td>0</td>\n",
       "      <td>1</td>\n",
       "      <td>0</td>\n",
       "      <td>0</td>\n",
       "    </tr>\n",
       "    <tr>\n",
       "      <th>2</th>\n",
       "      <td>38</td>\n",
       "      <td>215646</td>\n",
       "      <td>9</td>\n",
       "      <td>0</td>\n",
       "      <td>0</td>\n",
       "      <td>40</td>\n",
       "      <td>0</td>\n",
       "      <td>0</td>\n",
       "      <td>0</td>\n",
       "      <td>1</td>\n",
       "      <td>...</td>\n",
       "      <td>0</td>\n",
       "      <td>0</td>\n",
       "      <td>0</td>\n",
       "      <td>0</td>\n",
       "      <td>0</td>\n",
       "      <td>0</td>\n",
       "      <td>0</td>\n",
       "      <td>1</td>\n",
       "      <td>0</td>\n",
       "      <td>0</td>\n",
       "    </tr>\n",
       "    <tr>\n",
       "      <th>3</th>\n",
       "      <td>53</td>\n",
       "      <td>234721</td>\n",
       "      <td>7</td>\n",
       "      <td>0</td>\n",
       "      <td>0</td>\n",
       "      <td>40</td>\n",
       "      <td>0</td>\n",
       "      <td>0</td>\n",
       "      <td>0</td>\n",
       "      <td>1</td>\n",
       "      <td>...</td>\n",
       "      <td>0</td>\n",
       "      <td>0</td>\n",
       "      <td>0</td>\n",
       "      <td>0</td>\n",
       "      <td>0</td>\n",
       "      <td>0</td>\n",
       "      <td>0</td>\n",
       "      <td>1</td>\n",
       "      <td>0</td>\n",
       "      <td>0</td>\n",
       "    </tr>\n",
       "    <tr>\n",
       "      <th>4</th>\n",
       "      <td>28</td>\n",
       "      <td>338409</td>\n",
       "      <td>13</td>\n",
       "      <td>0</td>\n",
       "      <td>0</td>\n",
       "      <td>40</td>\n",
       "      <td>0</td>\n",
       "      <td>0</td>\n",
       "      <td>0</td>\n",
       "      <td>1</td>\n",
       "      <td>...</td>\n",
       "      <td>0</td>\n",
       "      <td>0</td>\n",
       "      <td>0</td>\n",
       "      <td>0</td>\n",
       "      <td>0</td>\n",
       "      <td>0</td>\n",
       "      <td>0</td>\n",
       "      <td>0</td>\n",
       "      <td>0</td>\n",
       "      <td>0</td>\n",
       "    </tr>\n",
       "  </tbody>\n",
       "</table>\n",
       "<p>5 rows × 105 columns</p>\n",
       "</div>"
      ],
      "text/plain": [
       "   age  fnlwgt  educational-num  capital-gain  capital-loss  hours-per-week  \\\n",
       "0   39   77516               13          2174             0              40   \n",
       "1   50   83311               13             0             0              13   \n",
       "2   38  215646                9             0             0              40   \n",
       "3   53  234721                7             0             0              40   \n",
       "4   28  338409               13             0             0              40   \n",
       "\n",
       "   workclass_ Federal-gov  workclass_ Local-gov  workclass_ Never-worked  \\\n",
       "0                       0                     0                        0   \n",
       "1                       0                     0                        0   \n",
       "2                       0                     0                        0   \n",
       "3                       0                     0                        0   \n",
       "4                       0                     0                        0   \n",
       "\n",
       "   workclass_ Private  ...  native-country_ Portugal  \\\n",
       "0                   0  ...                         0   \n",
       "1                   0  ...                         0   \n",
       "2                   1  ...                         0   \n",
       "3                   1  ...                         0   \n",
       "4                   1  ...                         0   \n",
       "\n",
       "   native-country_ Puerto-Rico  native-country_ Scotland  \\\n",
       "0                            0                         0   \n",
       "1                            0                         0   \n",
       "2                            0                         0   \n",
       "3                            0                         0   \n",
       "4                            0                         0   \n",
       "\n",
       "   native-country_ South  native-country_ Taiwan  native-country_ Thailand  \\\n",
       "0                      0                       0                         0   \n",
       "1                      0                       0                         0   \n",
       "2                      0                       0                         0   \n",
       "3                      0                       0                         0   \n",
       "4                      0                       0                         0   \n",
       "\n",
       "   native-country_ Trinadad&Tobago  native-country_ United-States  \\\n",
       "0                                0                              1   \n",
       "1                                0                              1   \n",
       "2                                0                              1   \n",
       "3                                0                              1   \n",
       "4                                0                              0   \n",
       "\n",
       "   native-country_ Vietnam  native-country_ Yugoslavia  \n",
       "0                        0                           0  \n",
       "1                        0                           0  \n",
       "2                        0                           0  \n",
       "3                        0                           0  \n",
       "4                        0                           0  \n",
       "\n",
       "[5 rows x 105 columns]"
      ]
     },
     "execution_count": 41,
     "metadata": {},
     "output_type": "execute_result"
    }
   ],
   "source": [
    "# Viewing top 5 rows of input 'x'\n",
    "x.head()"
   ]
  },
  {
   "cell_type": "markdown",
   "id": "5f11f934",
   "metadata": {},
   "source": [
    "### Transforming Numerical columns\n",
    "\n",
    "* It is a good practice to standardize/normalize the numerical features in order to get better performance"
   ]
  },
  {
   "cell_type": "code",
   "execution_count": 42,
   "id": "30412d81",
   "metadata": {
    "ExecuteTime": {
     "end_time": "2022-11-18T07:02:49.819949Z",
     "start_time": "2022-11-18T07:02:49.680988Z"
    }
   },
   "outputs": [],
   "source": [
    "# importing libarary\n",
    "from sklearn.preprocessing import StandardScaler"
   ]
  },
  {
   "cell_type": "code",
   "execution_count": 43,
   "id": "45a5dd81",
   "metadata": {
    "ExecuteTime": {
     "end_time": "2022-11-18T07:02:49.835242Z",
     "start_time": "2022-11-18T07:02:49.820998Z"
    },
    "execution": {
     "iopub.execute_input": "2022-08-22T04:02:06.983258Z",
     "iopub.status.busy": "2022-08-22T04:02:06.982629Z",
     "iopub.status.idle": "2022-08-22T04:02:06.988192Z",
     "shell.execute_reply": "2022-08-22T04:02:06.987388Z"
    },
    "id": "1-GVPjXXgQit",
    "outputId": "fa6abfe0-5f60-4691-be14-1c4b5bff2085",
    "papermill": {
     "duration": 0.037268,
     "end_time": "2022-08-22T04:02:06.990223",
     "exception": false,
     "start_time": "2022-08-22T04:02:06.952955",
     "status": "completed"
    },
    "tags": []
   },
   "outputs": [
    {
     "data": {
      "text/plain": [
       "['age',\n",
       " 'fnlwgt',\n",
       " 'educational-num',\n",
       " 'capital-gain',\n",
       " 'capital-loss',\n",
       " 'hours-per-week']"
      ]
     },
     "execution_count": 43,
     "metadata": {},
     "output_type": "execute_result"
    }
   ],
   "source": [
    "# viewing numerical columns\n",
    "numericalcols"
   ]
  },
  {
   "cell_type": "code",
   "execution_count": 44,
   "id": "de01c42b",
   "metadata": {
    "ExecuteTime": {
     "end_time": "2022-11-18T07:02:49.851205Z",
     "start_time": "2022-11-18T07:02:49.836244Z"
    },
    "execution": {
     "iopub.execute_input": "2022-08-22T04:02:07.048426Z",
     "iopub.status.busy": "2022-08-22T04:02:07.047790Z",
     "iopub.status.idle": "2022-08-22T04:02:07.072777Z",
     "shell.execute_reply": "2022-08-22T04:02:07.071697Z"
    },
    "id": "RbX8umuogQiu",
    "papermill": {
     "duration": 0.057351,
     "end_time": "2022-08-22T04:02:07.075464",
     "exception": false,
     "start_time": "2022-08-22T04:02:07.018113",
     "status": "completed"
    },
    "tags": []
   },
   "outputs": [],
   "source": [
    "# creating standard scaler object\n",
    "std_scaler=StandardScaler()"
   ]
  },
  {
   "cell_type": "code",
   "execution_count": 45,
   "id": "041adfd2",
   "metadata": {
    "ExecuteTime": {
     "end_time": "2022-11-18T07:02:49.881166Z",
     "start_time": "2022-11-18T07:02:49.852202Z"
    }
   },
   "outputs": [],
   "source": [
    "# Fitting and transforming the numericl input columns\n",
    "x[numericalcols]=std_scaler.fit_transform(x[numericalcols])"
   ]
  },
  {
   "cell_type": "code",
   "execution_count": 46,
   "id": "2a8fc1cd",
   "metadata": {
    "ExecuteTime": {
     "end_time": "2022-11-18T07:02:49.896086Z",
     "start_time": "2022-11-18T07:02:49.882166Z"
    },
    "execution": {
     "iopub.execute_input": "2022-08-22T04:02:07.133535Z",
     "iopub.status.busy": "2022-08-22T04:02:07.133140Z",
     "iopub.status.idle": "2022-08-22T04:02:07.153959Z",
     "shell.execute_reply": "2022-08-22T04:02:07.153051Z"
    },
    "id": "5KEGeAJTgQiu",
    "outputId": "2b482d00-a9e4-405a-c23d-7ae43bac05cd",
    "papermill": {
     "duration": 0.052637,
     "end_time": "2022-08-22T04:02:07.156147",
     "exception": false,
     "start_time": "2022-08-22T04:02:07.103510",
     "status": "completed"
    },
    "tags": []
   },
   "outputs": [
    {
     "data": {
      "text/html": [
       "<div>\n",
       "<style scoped>\n",
       "    .dataframe tbody tr th:only-of-type {\n",
       "        vertical-align: middle;\n",
       "    }\n",
       "\n",
       "    .dataframe tbody tr th {\n",
       "        vertical-align: top;\n",
       "    }\n",
       "\n",
       "    .dataframe thead th {\n",
       "        text-align: right;\n",
       "    }\n",
       "</style>\n",
       "<table border=\"1\" class=\"dataframe\">\n",
       "  <thead>\n",
       "    <tr style=\"text-align: right;\">\n",
       "      <th></th>\n",
       "      <th>age</th>\n",
       "      <th>fnlwgt</th>\n",
       "      <th>educational-num</th>\n",
       "      <th>capital-gain</th>\n",
       "      <th>capital-loss</th>\n",
       "      <th>hours-per-week</th>\n",
       "      <th>workclass_ Federal-gov</th>\n",
       "      <th>workclass_ Local-gov</th>\n",
       "      <th>workclass_ Never-worked</th>\n",
       "      <th>workclass_ Private</th>\n",
       "      <th>...</th>\n",
       "      <th>native-country_ Portugal</th>\n",
       "      <th>native-country_ Puerto-Rico</th>\n",
       "      <th>native-country_ Scotland</th>\n",
       "      <th>native-country_ South</th>\n",
       "      <th>native-country_ Taiwan</th>\n",
       "      <th>native-country_ Thailand</th>\n",
       "      <th>native-country_ Trinadad&amp;Tobago</th>\n",
       "      <th>native-country_ United-States</th>\n",
       "      <th>native-country_ Vietnam</th>\n",
       "      <th>native-country_ Yugoslavia</th>\n",
       "    </tr>\n",
       "  </thead>\n",
       "  <tbody>\n",
       "    <tr>\n",
       "      <th>0</th>\n",
       "      <td>0.030671</td>\n",
       "      <td>-1.063611</td>\n",
       "      <td>1.134739</td>\n",
       "      <td>0.148453</td>\n",
       "      <td>-0.21666</td>\n",
       "      <td>-0.035429</td>\n",
       "      <td>0</td>\n",
       "      <td>0</td>\n",
       "      <td>0</td>\n",
       "      <td>0</td>\n",
       "      <td>...</td>\n",
       "      <td>0</td>\n",
       "      <td>0</td>\n",
       "      <td>0</td>\n",
       "      <td>0</td>\n",
       "      <td>0</td>\n",
       "      <td>0</td>\n",
       "      <td>0</td>\n",
       "      <td>1</td>\n",
       "      <td>0</td>\n",
       "      <td>0</td>\n",
       "    </tr>\n",
       "    <tr>\n",
       "      <th>1</th>\n",
       "      <td>0.837109</td>\n",
       "      <td>-1.008707</td>\n",
       "      <td>1.134739</td>\n",
       "      <td>-0.145920</td>\n",
       "      <td>-0.21666</td>\n",
       "      <td>-2.222153</td>\n",
       "      <td>0</td>\n",
       "      <td>0</td>\n",
       "      <td>0</td>\n",
       "      <td>0</td>\n",
       "      <td>...</td>\n",
       "      <td>0</td>\n",
       "      <td>0</td>\n",
       "      <td>0</td>\n",
       "      <td>0</td>\n",
       "      <td>0</td>\n",
       "      <td>0</td>\n",
       "      <td>0</td>\n",
       "      <td>1</td>\n",
       "      <td>0</td>\n",
       "      <td>0</td>\n",
       "    </tr>\n",
       "    <tr>\n",
       "      <th>2</th>\n",
       "      <td>-0.042642</td>\n",
       "      <td>0.245079</td>\n",
       "      <td>-0.420060</td>\n",
       "      <td>-0.145920</td>\n",
       "      <td>-0.21666</td>\n",
       "      <td>-0.035429</td>\n",
       "      <td>0</td>\n",
       "      <td>0</td>\n",
       "      <td>0</td>\n",
       "      <td>1</td>\n",
       "      <td>...</td>\n",
       "      <td>0</td>\n",
       "      <td>0</td>\n",
       "      <td>0</td>\n",
       "      <td>0</td>\n",
       "      <td>0</td>\n",
       "      <td>0</td>\n",
       "      <td>0</td>\n",
       "      <td>1</td>\n",
       "      <td>0</td>\n",
       "      <td>0</td>\n",
       "    </tr>\n",
       "    <tr>\n",
       "      <th>3</th>\n",
       "      <td>1.057047</td>\n",
       "      <td>0.425801</td>\n",
       "      <td>-1.197459</td>\n",
       "      <td>-0.145920</td>\n",
       "      <td>-0.21666</td>\n",
       "      <td>-0.035429</td>\n",
       "      <td>0</td>\n",
       "      <td>0</td>\n",
       "      <td>0</td>\n",
       "      <td>1</td>\n",
       "      <td>...</td>\n",
       "      <td>0</td>\n",
       "      <td>0</td>\n",
       "      <td>0</td>\n",
       "      <td>0</td>\n",
       "      <td>0</td>\n",
       "      <td>0</td>\n",
       "      <td>0</td>\n",
       "      <td>1</td>\n",
       "      <td>0</td>\n",
       "      <td>0</td>\n",
       "    </tr>\n",
       "    <tr>\n",
       "      <th>4</th>\n",
       "      <td>-0.775768</td>\n",
       "      <td>1.408176</td>\n",
       "      <td>1.134739</td>\n",
       "      <td>-0.145920</td>\n",
       "      <td>-0.21666</td>\n",
       "      <td>-0.035429</td>\n",
       "      <td>0</td>\n",
       "      <td>0</td>\n",
       "      <td>0</td>\n",
       "      <td>1</td>\n",
       "      <td>...</td>\n",
       "      <td>0</td>\n",
       "      <td>0</td>\n",
       "      <td>0</td>\n",
       "      <td>0</td>\n",
       "      <td>0</td>\n",
       "      <td>0</td>\n",
       "      <td>0</td>\n",
       "      <td>0</td>\n",
       "      <td>0</td>\n",
       "      <td>0</td>\n",
       "    </tr>\n",
       "  </tbody>\n",
       "</table>\n",
       "<p>5 rows × 105 columns</p>\n",
       "</div>"
      ],
      "text/plain": [
       "        age    fnlwgt  educational-num  capital-gain  capital-loss  \\\n",
       "0  0.030671 -1.063611         1.134739      0.148453      -0.21666   \n",
       "1  0.837109 -1.008707         1.134739     -0.145920      -0.21666   \n",
       "2 -0.042642  0.245079        -0.420060     -0.145920      -0.21666   \n",
       "3  1.057047  0.425801        -1.197459     -0.145920      -0.21666   \n",
       "4 -0.775768  1.408176         1.134739     -0.145920      -0.21666   \n",
       "\n",
       "   hours-per-week  workclass_ Federal-gov  workclass_ Local-gov  \\\n",
       "0       -0.035429                       0                     0   \n",
       "1       -2.222153                       0                     0   \n",
       "2       -0.035429                       0                     0   \n",
       "3       -0.035429                       0                     0   \n",
       "4       -0.035429                       0                     0   \n",
       "\n",
       "   workclass_ Never-worked  workclass_ Private  ...  native-country_ Portugal  \\\n",
       "0                        0                   0  ...                         0   \n",
       "1                        0                   0  ...                         0   \n",
       "2                        0                   1  ...                         0   \n",
       "3                        0                   1  ...                         0   \n",
       "4                        0                   1  ...                         0   \n",
       "\n",
       "   native-country_ Puerto-Rico  native-country_ Scotland  \\\n",
       "0                            0                         0   \n",
       "1                            0                         0   \n",
       "2                            0                         0   \n",
       "3                            0                         0   \n",
       "4                            0                         0   \n",
       "\n",
       "   native-country_ South  native-country_ Taiwan  native-country_ Thailand  \\\n",
       "0                      0                       0                         0   \n",
       "1                      0                       0                         0   \n",
       "2                      0                       0                         0   \n",
       "3                      0                       0                         0   \n",
       "4                      0                       0                         0   \n",
       "\n",
       "   native-country_ Trinadad&Tobago  native-country_ United-States  \\\n",
       "0                                0                              1   \n",
       "1                                0                              1   \n",
       "2                                0                              1   \n",
       "3                                0                              1   \n",
       "4                                0                              0   \n",
       "\n",
       "   native-country_ Vietnam  native-country_ Yugoslavia  \n",
       "0                        0                           0  \n",
       "1                        0                           0  \n",
       "2                        0                           0  \n",
       "3                        0                           0  \n",
       "4                        0                           0  \n",
       "\n",
       "[5 rows x 105 columns]"
      ]
     },
     "execution_count": 46,
     "metadata": {},
     "output_type": "execute_result"
    }
   ],
   "source": [
    "# Viewing top 5 rows of input 'x'\n",
    "x.head()"
   ]
  },
  {
   "cell_type": "markdown",
   "id": "3ba6f1ed",
   "metadata": {},
   "source": [
    "# Model Development and Performance Validation"
   ]
  },
  {
   "cell_type": "code",
   "execution_count": 47,
   "id": "34e66b03",
   "metadata": {
    "ExecuteTime": {
     "end_time": "2022-11-18T07:02:50.023314Z",
     "start_time": "2022-11-18T07:02:49.897083Z"
    }
   },
   "outputs": [],
   "source": [
    "from sklearn.tree import DecisionTreeClassifier\n",
    "from sklearn.linear_model import  LogisticRegression\n",
    "from sklearn.svm import SVC\n",
    "from sklearn.neighbors import KNeighborsClassifier\n",
    "from sklearn.tree import DecisionTreeClassifier\n",
    "from sklearn.ensemble import RandomForestClassifier\n",
    "from sklearn.naive_bayes import GaussianNB \n",
    "\n",
    "from sklearn.model_selection import KFold\n",
    "from sklearn.model_selection import cross_val_score\n",
    "from sklearn.metrics import accuracy_score,confusion_matrix, classification_report"
   ]
  },
  {
   "cell_type": "markdown",
   "id": "e7066b34",
   "metadata": {
    "id": "lcErdv6to9De",
    "papermill": {
     "duration": 0.038125,
     "end_time": "2022-08-22T04:02:07.398375",
     "exception": false,
     "start_time": "2022-08-22T04:02:07.360250",
     "status": "completed"
    },
    "tags": []
   },
   "source": [
    "## 1: LogisticRegression"
   ]
  },
  {
   "cell_type": "markdown",
   "id": "da698435",
   "metadata": {},
   "source": [
    "* Logistic regression is one of the most popular Machine Learning algorithms, which comes under the Supervised Learning technique. It is used for predicting the categorical dependent variable using a given set of independent variables.\n",
    "* Logistic regression predicts the output of a categorical dependent variable. Therefore the outcome must be a categorical or discrete value. It can be either Yes or No, 0 or 1, true or False, etc. but instead of giving the exact value as 0 and 1, it gives the probabilistic values which lie between 0 and 1.\n",
    "\n",
    "* Logistic Regression is much similar to the Linear Regression except that how they are used. Linear Regression is used for solving Regression problems, whereas Logistic regression is used for solving the classification problems.\n",
    "* Logistic Regression can be used to classify the observations using different types of data and can easily determine the most effective variables used for the classification. The below image is showing the logistic function:\n",
    "\n",
    "\n",
    "![Logistic Regression](https://static.javatpoint.com/tutorial/machine-learning/images/logistic-regression-in-machine-learning.png)\n",
    "\n",
    "* Ref: https://www.javatpoint.com/logistic-regression-in-machine-learning"
   ]
  },
  {
   "cell_type": "code",
   "execution_count": 48,
   "id": "bb81c749",
   "metadata": {
    "ExecuteTime": {
     "end_time": "2022-11-18T07:02:50.039588Z",
     "start_time": "2022-11-18T07:02:50.024269Z"
    }
   },
   "outputs": [],
   "source": [
    "# intitializing the ML model object \n",
    "Model1_LR = LogisticRegression(max_iter=400)"
   ]
  },
  {
   "cell_type": "markdown",
   "id": "6e6a4531",
   "metadata": {},
   "source": [
    "For the purpose of model validation, we are using Cross Validation.\n",
    "\n",
    "\n",
    "### What is Cross Validation?\n",
    "\n",
    "* Cross-validation is a statistical method used to estimate the performance (or accuracy) of machine learning models. It is used to protect against overfitting in a predictive model, particularly in a case where the amount of data may be limited. \n",
    "* In cross-validation, you make a fixed number of folds (or partitions) of the data, run the analysis on each fold, and then average the overall error estimate.\n",
    "\n",
    "* So what is wrong with testing the model on the training dataset? If we do so, we assume that the training data represents all the possible scenarios of real-world and this will surely never be the case. Our main objective is that the model should be able to work well on the real-world data, although the training dataset is also real-world data, it represents a small set of all the possible data points(examples) out there.\n",
    "\n",
    "#### K-Fold Cross Validation:\n",
    "* `K-fold cross validation` is one way to improve the holdout method. The data set is divided into k number of subsets and the holdout method is repeated k number of times.\n",
    "\n",
    "* Because it ensures that every observation from the original dataset has the chance of appearing in training and test set, this method generally results in a less biased model compare to other methods. \n",
    "\n",
    "* The disadvantage of this method is that the training algorithm has to be rerun from scratch k times, which means it takes k times as much computation to make an evaluation.\n",
    "\n",
    "* Ref: https://www.mygreatlearning.com/blog/cross-validation/"
   ]
  },
  {
   "cell_type": "code",
   "execution_count": 49,
   "id": "72f2a735",
   "metadata": {
    "ExecuteTime": {
     "end_time": "2022-11-18T07:02:50.054767Z",
     "start_time": "2022-11-18T07:02:50.042222Z"
    }
   },
   "outputs": [],
   "source": [
    "# intitializing the K Fold Cross Validation object\n",
    "kfold = KFold(n_splits=5) # k=5, split the data into 10 equal parts"
   ]
  },
  {
   "cell_type": "code",
   "execution_count": 50,
   "id": "07ed97c0",
   "metadata": {
    "ExecuteTime": {
     "end_time": "2022-11-18T07:02:55.570212Z",
     "start_time": "2022-11-18T07:02:50.056807Z"
    }
   },
   "outputs": [],
   "source": [
    "# executing the ML model using Cross Validation\n",
    "results= cross_val_score(Model1_LR, x, y, cv=kfold, scoring = \"accuracy\")"
   ]
  },
  {
   "cell_type": "code",
   "execution_count": 51,
   "id": "ae4fcb8e",
   "metadata": {
    "ExecuteTime": {
     "end_time": "2022-11-18T07:02:55.586071Z",
     "start_time": "2022-11-18T07:02:55.571144Z"
    }
   },
   "outputs": [
    {
     "name": "stdout",
     "output_type": "stream",
     "text": [
      "Logistic Regression:\n",
      "Mean Accuracy is  0.8510796494329428\n",
      "Deviation in Accuracy is  0.002618557200476291\n"
     ]
    }
   ],
   "source": [
    "print(\"Logistic Regression:\")\n",
    "print(\"Mean Accuracy is \", results.mean())\n",
    "print(\"Deviation in Accuracy is \", results.std())"
   ]
  },
  {
   "cell_type": "code",
   "execution_count": 52,
   "id": "c57e60f9",
   "metadata": {
    "ExecuteTime": {
     "end_time": "2022-11-18T07:02:55.602076Z",
     "start_time": "2022-11-18T07:02:55.588049Z"
    }
   },
   "outputs": [],
   "source": [
    "# Creating empty lists to store results\n",
    "CV_Accuracy_Mean=[]\n",
    "CV_Accuracy_StandardDeviation=[]"
   ]
  },
  {
   "cell_type": "code",
   "execution_count": 53,
   "id": "de2e1dac",
   "metadata": {
    "ExecuteTime": {
     "end_time": "2022-11-18T07:02:55.617215Z",
     "start_time": "2022-11-18T07:02:55.603054Z"
    }
   },
   "outputs": [],
   "source": [
    "# Adding model results into combined lists\n",
    "CV_Accuracy_Mean.append(results.mean())\n",
    "CV_Accuracy_StandardDeviation.append(results.std())"
   ]
  },
  {
   "cell_type": "code",
   "execution_count": null,
   "id": "272aa30f",
   "metadata": {},
   "outputs": [],
   "source": []
  },
  {
   "cell_type": "markdown",
   "id": "8a379c34",
   "metadata": {
    "id": "m_GLXQqdqzhZ",
    "papermill": {
     "duration": 0.031489,
     "end_time": "2022-08-22T04:02:10.084956",
     "exception": false,
     "start_time": "2022-08-22T04:02:10.053467",
     "status": "completed"
    },
    "tags": []
   },
   "source": [
    "## 2: Support Vector Classifier\n",
    "\n",
    "* Support Vector Machine or SVM is one of the most popular Supervised Learning algorithms, which is used for Classification as well as Regression problems. However, primarily, it is used for Classification problems in Machine Learning.\n",
    "\n",
    "* The goal of the SVM algorithm is to create the best line or decision boundary that can segregate n-dimensional space into classes so that we can easily put the new data point in the correct category in the future. This best decision boundary is called a hyperplane.\n",
    "\n",
    "* SVM chooses the extreme points/vectors that help in creating the hyperplane. These extreme cases are called as support vectors, and hence algorithm is termed as Support Vector Machine. Consider the below diagram in which there are two different categories that are classified using a decision boundary or hyperplane:\n",
    "![SVM](https://static.javatpoint.com/tutorial/machine-learning/images/support-vector-machine-algorithm.png)\n",
    "\n",
    "\n",
    "* Ref: https://www.javatpoint.com/machine-learning-support-vector-machine-algorithm"
   ]
  },
  {
   "cell_type": "code",
   "execution_count": 54,
   "id": "4beaa3ef",
   "metadata": {
    "ExecuteTime": {
     "end_time": "2022-11-18T07:02:55.633053Z",
     "start_time": "2022-11-18T07:02:55.618184Z"
    }
   },
   "outputs": [],
   "source": [
    "# intitializing the ML model object \n",
    "Model2_SVC = SVC()"
   ]
  },
  {
   "cell_type": "code",
   "execution_count": 55,
   "id": "649d4718",
   "metadata": {
    "ExecuteTime": {
     "end_time": "2022-11-18T07:05:51.836328Z",
     "start_time": "2022-11-18T07:02:55.634054Z"
    }
   },
   "outputs": [],
   "source": [
    "# executing the ML model using Cross Validation\n",
    "results= cross_val_score(Model2_SVC, x, y, cv=kfold, scoring = \"accuracy\")"
   ]
  },
  {
   "cell_type": "code",
   "execution_count": 56,
   "id": "f9d5ea8c",
   "metadata": {
    "ExecuteTime": {
     "end_time": "2022-11-18T07:05:51.851449Z",
     "start_time": "2022-11-18T07:05:51.838473Z"
    }
   },
   "outputs": [
    {
     "name": "stdout",
     "output_type": "stream",
     "text": [
      "Support Vector Classifier:\n",
      "Mean Accuracy is  0.8558092376954652\n",
      "Deviation in Accuracy is  0.003082818324777838\n"
     ]
    }
   ],
   "source": [
    "print(\"Support Vector Classifier:\")\n",
    "print(\"Mean Accuracy is \", results.mean())\n",
    "print(\"Deviation in Accuracy is \", results.std())"
   ]
  },
  {
   "cell_type": "code",
   "execution_count": 57,
   "id": "bc7ab917",
   "metadata": {
    "ExecuteTime": {
     "end_time": "2022-11-18T07:05:51.867396Z",
     "start_time": "2022-11-18T07:05:51.853433Z"
    }
   },
   "outputs": [],
   "source": [
    "# Adding model results into combined lists\n",
    "CV_Accuracy_Mean.append(results.mean())\n",
    "CV_Accuracy_StandardDeviation.append(results.std())"
   ]
  },
  {
   "cell_type": "code",
   "execution_count": null,
   "id": "d37f8f6a",
   "metadata": {},
   "outputs": [],
   "source": []
  },
  {
   "cell_type": "markdown",
   "id": "5e754269",
   "metadata": {
    "id": "KWltcOT-s3Ku",
    "papermill": {
     "duration": 0.035623,
     "end_time": "2022-08-22T04:04:38.042808",
     "exception": false,
     "start_time": "2022-08-22T04:04:38.007185",
     "status": "completed"
    },
    "tags": []
   },
   "source": [
    "## 3: K - Nearest Neighbors Classifier\n",
    "\n",
    "* K-NN algorithm assumes the similarity between the new case/data and available cases and put the new case into the category that is most similar to the available categories.\n",
    "* K-NN algorithm stores all the available data and classifies a new data point based on the similarity. This means when new data appears then it can be easily classified into a well suite category by using K- NN algorithm.\n",
    "* KNN algorithm at the training phase just stores the dataset and when it gets new data, then it classifies that data into a category that is much similar to the new data.\n",
    "![KNN](https://static.javatpoint.com/tutorial/machine-learning/images/k-nearest-neighbor-algorithm-for-machine-learning2.png)\n",
    "* Ref: https://www.javatpoint.com/k-nearest-neighbor-algorithm-for-machine-learning"
   ]
  },
  {
   "cell_type": "code",
   "execution_count": 58,
   "id": "0bc8cb97",
   "metadata": {
    "ExecuteTime": {
     "end_time": "2022-11-18T07:05:51.882398Z",
     "start_time": "2022-11-18T07:05:51.869391Z"
    }
   },
   "outputs": [],
   "source": [
    "# intitializing the ML model object \n",
    "Model3_KNN = KNeighborsClassifier(n_neighbors=10)"
   ]
  },
  {
   "cell_type": "code",
   "execution_count": 59,
   "id": "3b79c50c",
   "metadata": {
    "ExecuteTime": {
     "end_time": "2022-11-18T07:06:05.133980Z",
     "start_time": "2022-11-18T07:05:51.883353Z"
    }
   },
   "outputs": [],
   "source": [
    "# executing the ML model using Cross Validation\n",
    "results= cross_val_score(Model3_KNN, x, y, cv=kfold, scoring = \"accuracy\")"
   ]
  },
  {
   "cell_type": "code",
   "execution_count": 60,
   "id": "44c4711e",
   "metadata": {
    "ExecuteTime": {
     "end_time": "2022-11-18T07:06:05.148880Z",
     "start_time": "2022-11-18T07:06:05.135916Z"
    }
   },
   "outputs": [
    {
     "name": "stdout",
     "output_type": "stream",
     "text": [
      "K-Nearest Neighbor Classifier:\n",
      "Mean Accuracy is  0.8404841752895645\n",
      "Deviation in Accuracy is  0.0030892844377274978\n"
     ]
    }
   ],
   "source": [
    "print(\"K-Nearest Neighbor Classifier:\")\n",
    "print(\"Mean Accuracy is \", results.mean())\n",
    "print(\"Deviation in Accuracy is \", results.std())"
   ]
  },
  {
   "cell_type": "code",
   "execution_count": 61,
   "id": "52126a03",
   "metadata": {
    "ExecuteTime": {
     "end_time": "2022-11-18T07:06:05.163841Z",
     "start_time": "2022-11-18T07:06:05.151874Z"
    }
   },
   "outputs": [],
   "source": [
    "# Adding model results into combined lists\n",
    "CV_Accuracy_Mean.append(results.mean())\n",
    "CV_Accuracy_StandardDeviation.append(results.std())"
   ]
  },
  {
   "cell_type": "code",
   "execution_count": null,
   "id": "0ce2c4db",
   "metadata": {},
   "outputs": [],
   "source": []
  },
  {
   "cell_type": "markdown",
   "id": "519034c9",
   "metadata": {},
   "source": [
    "## 4: Decision Tree Classifier\n",
    "\n",
    "* Decision Tree is a Supervised learning technique that can be used for both classification and Regression problems, but mostly it is preferred for solving Classification problems. \n",
    "* It is a tree-structured classifier, where internal nodes represent the features of a dataset, branches represent the decision rules and each leaf node represents the outcome.\n",
    "* In a Decision tree, there are two nodes, which are the Decision Node and Leaf Node. Decision nodes are used to make any decision and have multiple branches, whereas Leaf nodes are the output of those decisions and do not contain any further branches.\n",
    "* It is a graphical representation for getting all the possible solutions to a problem/decision based on given conditions.\n",
    "* It is called a decision tree because, similar to a tree, it starts with the root node, which expands on further branches and constructs a tree-like structure.\n",
    "\n",
    "![Decision Tree](https://static.javatpoint.com/tutorial/machine-learning/images/decision-tree-classification-algorithm2.png)\n",
    "\n",
    "* Ref: https://www.javatpoint.com/machine-learning-decision-tree-classification-algorithm"
   ]
  },
  {
   "cell_type": "code",
   "execution_count": 62,
   "id": "d2139e8f",
   "metadata": {
    "ExecuteTime": {
     "end_time": "2022-11-18T07:06:05.178827Z",
     "start_time": "2022-11-18T07:06:05.165838Z"
    }
   },
   "outputs": [],
   "source": [
    "# intitializing the ML model object \n",
    "Model4_DT = DecisionTreeClassifier()"
   ]
  },
  {
   "cell_type": "code",
   "execution_count": 63,
   "id": "d60ac972",
   "metadata": {
    "ExecuteTime": {
     "end_time": "2022-11-18T07:06:06.397638Z",
     "start_time": "2022-11-18T07:06:05.180797Z"
    }
   },
   "outputs": [],
   "source": [
    "# executing the ML model using Cross Validation\n",
    "results= cross_val_score(Model4_DT, x, y, cv=kfold, scoring = \"accuracy\")"
   ]
  },
  {
   "cell_type": "code",
   "execution_count": 64,
   "id": "5136ae2d",
   "metadata": {
    "ExecuteTime": {
     "end_time": "2022-11-18T07:06:06.412628Z",
     "start_time": "2022-11-18T07:06:06.400635Z"
    }
   },
   "outputs": [
    {
     "name": "stdout",
     "output_type": "stream",
     "text": [
      "Decision Tree Classifier:\n",
      "Mean Accuracy is  0.8141949469045275\n",
      "Deviation in Accuracy is  0.004596581318001093\n"
     ]
    }
   ],
   "source": [
    "print(\"Decision Tree Classifier:\")\n",
    "print(\"Mean Accuracy is \", results.mean())\n",
    "print(\"Deviation in Accuracy is \", results.std())"
   ]
  },
  {
   "cell_type": "code",
   "execution_count": 65,
   "id": "fe318c6a",
   "metadata": {
    "ExecuteTime": {
     "end_time": "2022-11-18T07:06:06.428585Z",
     "start_time": "2022-11-18T07:06:06.414598Z"
    }
   },
   "outputs": [],
   "source": [
    "# Adding model results into combined lists\n",
    "CV_Accuracy_Mean.append(results.mean())\n",
    "CV_Accuracy_StandardDeviation.append(results.std())"
   ]
  },
  {
   "cell_type": "code",
   "execution_count": null,
   "id": "15514847",
   "metadata": {},
   "outputs": [],
   "source": []
  },
  {
   "cell_type": "markdown",
   "id": "516706aa",
   "metadata": {
    "id": "y-e_Mcb2t_zt",
    "papermill": {
     "duration": 0.032544,
     "end_time": "2022-08-22T04:05:21.842729",
     "exception": false,
     "start_time": "2022-08-22T04:05:21.810185",
     "status": "completed"
    },
    "tags": []
   },
   "source": [
    "## 5: Random Forest Classifier\n",
    "\n",
    "* Random Forest is a popular machine learning algorithm that belongs to the supervised learning technique.\n",
    "* It is based on the concept of ensemble learning, which is a process of combining multiple classifiers to solve a complex problem and to improve the performance of the model.\n",
    "\n",
    "* As the name suggests, \"Random Forest is a classifier that contains a number of decision trees on various subsets of the given dataset and takes the average to improve the predictive accuracy of that dataset.\" \n",
    "\n",
    "* Instead of relying on one decision tree, the random forest takes the prediction from each tree and based on the majority votes of predictions, and it predicts the final output. The greater number of trees in the forest leads to higher accuracy and prevents the problem of overfitting.\n",
    "\n",
    "* The below diagram explains the working of the Random Forest algorithm:\n",
    "![Random Forest](https://static.javatpoint.com/tutorial/machine-learning/images/random-forest-algorithm2.png)"
   ]
  },
  {
   "cell_type": "code",
   "execution_count": 66,
   "id": "cab42855",
   "metadata": {
    "ExecuteTime": {
     "end_time": "2022-11-18T07:06:06.443996Z",
     "start_time": "2022-11-18T07:06:06.430555Z"
    }
   },
   "outputs": [],
   "source": [
    "# intitializing the ML model object \n",
    "Model5_RF = RandomForestClassifier()"
   ]
  },
  {
   "cell_type": "code",
   "execution_count": 67,
   "id": "64e7befb",
   "metadata": {
    "ExecuteTime": {
     "end_time": "2022-11-18T07:06:19.554458Z",
     "start_time": "2022-11-18T07:06:06.445942Z"
    }
   },
   "outputs": [],
   "source": [
    "# executing the ML model using Cross Validation\n",
    "results= cross_val_score(Model5_RF, x, y, cv=kfold, scoring = \"accuracy\")"
   ]
  },
  {
   "cell_type": "code",
   "execution_count": 68,
   "id": "8a1ba895",
   "metadata": {
    "ExecuteTime": {
     "end_time": "2022-11-18T07:06:19.569445Z",
     "start_time": "2022-11-18T07:06:19.562466Z"
    }
   },
   "outputs": [
    {
     "name": "stdout",
     "output_type": "stream",
     "text": [
      "Random Forest Classifier:\n",
      "Mean Accuracy is  0.8545192831120975\n",
      "Deviation in Accuracy is  0.003342311044830493\n"
     ]
    }
   ],
   "source": [
    "print(\"Random Forest Classifier:\")\n",
    "print(\"Mean Accuracy is \", results.mean())\n",
    "print(\"Deviation in Accuracy is \", results.std())"
   ]
  },
  {
   "cell_type": "code",
   "execution_count": 69,
   "id": "2a1b0bf1",
   "metadata": {
    "ExecuteTime": {
     "end_time": "2022-11-18T07:06:19.585414Z",
     "start_time": "2022-11-18T07:06:19.574410Z"
    }
   },
   "outputs": [],
   "source": [
    "# Adding model results into combined lists\n",
    "CV_Accuracy_Mean.append(results.mean())\n",
    "CV_Accuracy_StandardDeviation.append(results.std())"
   ]
  },
  {
   "cell_type": "code",
   "execution_count": null,
   "id": "558024f7",
   "metadata": {},
   "outputs": [],
   "source": []
  },
  {
   "cell_type": "markdown",
   "id": "efdafc49",
   "metadata": {},
   "source": [
    "## 6: Naive Bayes Classifier\n",
    "\n",
    "* Naïve Bayes algorithm is a supervised learning algorithm, which is based on Bayes theorem and used for solving classification problems.\n",
    "* Naïve Bayes Classifier is one of the simple and most effective Classification algorithms which helps in building the fast machine learning models that can make quick predictions.\n",
    "* It is a probabilistic classifier, which means it predicts on the basis of the probability of an object.\n",
    "![Naive Bayes](https://static.javatpoint.com/tutorial/machine-learning/images/naive-bayes-classifier-algorithm.png)\n",
    "\n",
    "Where,\n",
    "\n",
    "* P(A|B) is Posterior probability: Probability of hypothesis A on the observed event B.\n",
    "* P(B|A) is Likelihood probability: Probability of the evidence given that the probability of a hypothesis is true.\n",
    "* P(A) is Prior Probability: Probability of hypothesis before observing the evidence.\n",
    "* P(B) is Marginal Probability: Probability of Evidence.\n",
    "\n",
    "\n",
    "* Ref: https://www.javatpoint.com/machine-learning-naive-bayes-classifier"
   ]
  },
  {
   "cell_type": "code",
   "execution_count": 70,
   "id": "fb87e491",
   "metadata": {
    "ExecuteTime": {
     "end_time": "2022-11-18T07:06:19.600805Z",
     "start_time": "2022-11-18T07:06:19.587375Z"
    }
   },
   "outputs": [],
   "source": [
    "# intitializing the ML model object \n",
    "Model6_NB = GaussianNB()"
   ]
  },
  {
   "cell_type": "code",
   "execution_count": 71,
   "id": "b119552b",
   "metadata": {
    "ExecuteTime": {
     "end_time": "2022-11-18T07:06:19.964541Z",
     "start_time": "2022-11-18T07:06:19.601759Z"
    }
   },
   "outputs": [],
   "source": [
    "# executing the ML model using Cross Validation\n",
    "results= cross_val_score(Model6_NB, x, y, cv=kfold, scoring = \"accuracy\")"
   ]
  },
  {
   "cell_type": "code",
   "execution_count": 72,
   "id": "8d545753",
   "metadata": {
    "ExecuteTime": {
     "end_time": "2022-11-18T07:06:19.980512Z",
     "start_time": "2022-11-18T07:06:19.965541Z"
    }
   },
   "outputs": [
    {
     "name": "stdout",
     "output_type": "stream",
     "text": [
      "Naive Bayes Classifier:\n",
      "Mean Accuracy is  0.5404938186375312\n",
      "Deviation in Accuracy is  0.01456452925979218\n"
     ]
    }
   ],
   "source": [
    "print(\"Naive Bayes Classifier:\")\n",
    "print(\"Mean Accuracy is \", results.mean())\n",
    "print(\"Deviation in Accuracy is \", results.std())"
   ]
  },
  {
   "cell_type": "code",
   "execution_count": 73,
   "id": "ada2ebfc",
   "metadata": {
    "ExecuteTime": {
     "end_time": "2022-11-18T07:06:19.995846Z",
     "start_time": "2022-11-18T07:06:19.982192Z"
    }
   },
   "outputs": [],
   "source": [
    "# Adding model results into combined lists\n",
    "CV_Accuracy_Mean.append(results.mean())\n",
    "CV_Accuracy_StandardDeviation.append(results.std())"
   ]
  },
  {
   "cell_type": "code",
   "execution_count": null,
   "id": "693ee3fe",
   "metadata": {},
   "outputs": [],
   "source": []
  },
  {
   "cell_type": "markdown",
   "id": "501b3fa9",
   "metadata": {},
   "source": [
    "## Model Performance Comparison"
   ]
  },
  {
   "cell_type": "code",
   "execution_count": 74,
   "id": "315381b7",
   "metadata": {
    "ExecuteTime": {
     "end_time": "2022-11-18T07:06:20.011779Z",
     "start_time": "2022-11-18T07:06:19.997816Z"
    }
   },
   "outputs": [
    {
     "data": {
      "text/html": [
       "<div>\n",
       "<style scoped>\n",
       "    .dataframe tbody tr th:only-of-type {\n",
       "        vertical-align: middle;\n",
       "    }\n",
       "\n",
       "    .dataframe tbody tr th {\n",
       "        vertical-align: top;\n",
       "    }\n",
       "\n",
       "    .dataframe thead th {\n",
       "        text-align: right;\n",
       "    }\n",
       "</style>\n",
       "<table border=\"1\" class=\"dataframe\">\n",
       "  <thead>\n",
       "    <tr style=\"text-align: right;\">\n",
       "      <th></th>\n",
       "      <th>CV_Accuracy_Mean</th>\n",
       "      <th>CV_Accuracy_StdDeviation</th>\n",
       "    </tr>\n",
       "  </thead>\n",
       "  <tbody>\n",
       "    <tr>\n",
       "      <th>Logistic Regression</th>\n",
       "      <td>0.851080</td>\n",
       "      <td>0.002619</td>\n",
       "    </tr>\n",
       "    <tr>\n",
       "      <th>Support Vector Machine</th>\n",
       "      <td>0.855809</td>\n",
       "      <td>0.003083</td>\n",
       "    </tr>\n",
       "    <tr>\n",
       "      <th>K-Nearest Neighbor</th>\n",
       "      <td>0.840484</td>\n",
       "      <td>0.003089</td>\n",
       "    </tr>\n",
       "    <tr>\n",
       "      <th>Decision Tree</th>\n",
       "      <td>0.814195</td>\n",
       "      <td>0.004597</td>\n",
       "    </tr>\n",
       "    <tr>\n",
       "      <th>Random Forest</th>\n",
       "      <td>0.854519</td>\n",
       "      <td>0.003342</td>\n",
       "    </tr>\n",
       "    <tr>\n",
       "      <th>Naive Bayes</th>\n",
       "      <td>0.540494</td>\n",
       "      <td>0.014565</td>\n",
       "    </tr>\n",
       "  </tbody>\n",
       "</table>\n",
       "</div>"
      ],
      "text/plain": [
       "                        CV_Accuracy_Mean  CV_Accuracy_StdDeviation\n",
       "Logistic Regression             0.851080                  0.002619\n",
       "Support Vector Machine          0.855809                  0.003083\n",
       "K-Nearest Neighbor              0.840484                  0.003089\n",
       "Decision Tree                   0.814195                  0.004597\n",
       "Random Forest                   0.854519                  0.003342\n",
       "Naive Bayes                     0.540494                  0.014565"
      ]
     },
     "execution_count": 74,
     "metadata": {},
     "output_type": "execute_result"
    }
   ],
   "source": [
    "# Creating a final DF with all model performances\n",
    "Model_Performance_DF=pd.DataFrame({'CV_Accuracy_Mean':CV_Accuracy_Mean,\n",
    "                               'CV_Accuracy_StdDeviation':CV_Accuracy_StandardDeviation}, \n",
    "                              index = ['Logistic Regression', 'Support Vector Machine', 'K-Nearest Neighbor',\n",
    "                                       'Decision Tree', 'Random Forest', 'Naive Bayes'])       \n",
    "Model_Performance_DF"
   ]
  },
  {
   "cell_type": "markdown",
   "id": "2b8aa189",
   "metadata": {},
   "source": [
    "> * The performance of all the algorithms is very similar when it comes to the average accuracy.\n",
    "> * However, `Random Forest` seems to be the best performing by a small margin when looking at mean accuracy and std deviation within accuracy.\n",
    "> * Hence we will build the final model on `Random Forest Classifier' algorithm"
   ]
  },
  {
   "cell_type": "code",
   "execution_count": null,
   "id": "a262b4f8",
   "metadata": {},
   "outputs": [],
   "source": []
  },
  {
   "cell_type": "markdown",
   "id": "7d3ed92b",
   "metadata": {},
   "source": [
    "### Final Model Development"
   ]
  },
  {
   "cell_type": "code",
   "execution_count": 75,
   "id": "53b474ae",
   "metadata": {
    "ExecuteTime": {
     "end_time": "2022-11-18T07:06:20.042696Z",
     "start_time": "2022-11-18T07:06:20.013775Z"
    }
   },
   "outputs": [
    {
     "data": {
      "text/html": [
       "<div>\n",
       "<style scoped>\n",
       "    .dataframe tbody tr th:only-of-type {\n",
       "        vertical-align: middle;\n",
       "    }\n",
       "\n",
       "    .dataframe tbody tr th {\n",
       "        vertical-align: top;\n",
       "    }\n",
       "\n",
       "    .dataframe thead th {\n",
       "        text-align: right;\n",
       "    }\n",
       "</style>\n",
       "<table border=\"1\" class=\"dataframe\">\n",
       "  <thead>\n",
       "    <tr style=\"text-align: right;\">\n",
       "      <th></th>\n",
       "      <th>age</th>\n",
       "      <th>fnlwgt</th>\n",
       "      <th>educational-num</th>\n",
       "      <th>capital-gain</th>\n",
       "      <th>capital-loss</th>\n",
       "      <th>hours-per-week</th>\n",
       "      <th>workclass_ Federal-gov</th>\n",
       "      <th>workclass_ Local-gov</th>\n",
       "      <th>workclass_ Never-worked</th>\n",
       "      <th>workclass_ Private</th>\n",
       "      <th>...</th>\n",
       "      <th>native-country_ Portugal</th>\n",
       "      <th>native-country_ Puerto-Rico</th>\n",
       "      <th>native-country_ Scotland</th>\n",
       "      <th>native-country_ South</th>\n",
       "      <th>native-country_ Taiwan</th>\n",
       "      <th>native-country_ Thailand</th>\n",
       "      <th>native-country_ Trinadad&amp;Tobago</th>\n",
       "      <th>native-country_ United-States</th>\n",
       "      <th>native-country_ Vietnam</th>\n",
       "      <th>native-country_ Yugoslavia</th>\n",
       "    </tr>\n",
       "  </thead>\n",
       "  <tbody>\n",
       "    <tr>\n",
       "      <th>0</th>\n",
       "      <td>0.030671</td>\n",
       "      <td>-1.063611</td>\n",
       "      <td>1.134739</td>\n",
       "      <td>0.148453</td>\n",
       "      <td>-0.21666</td>\n",
       "      <td>-0.035429</td>\n",
       "      <td>0</td>\n",
       "      <td>0</td>\n",
       "      <td>0</td>\n",
       "      <td>0</td>\n",
       "      <td>...</td>\n",
       "      <td>0</td>\n",
       "      <td>0</td>\n",
       "      <td>0</td>\n",
       "      <td>0</td>\n",
       "      <td>0</td>\n",
       "      <td>0</td>\n",
       "      <td>0</td>\n",
       "      <td>1</td>\n",
       "      <td>0</td>\n",
       "      <td>0</td>\n",
       "    </tr>\n",
       "    <tr>\n",
       "      <th>1</th>\n",
       "      <td>0.837109</td>\n",
       "      <td>-1.008707</td>\n",
       "      <td>1.134739</td>\n",
       "      <td>-0.145920</td>\n",
       "      <td>-0.21666</td>\n",
       "      <td>-2.222153</td>\n",
       "      <td>0</td>\n",
       "      <td>0</td>\n",
       "      <td>0</td>\n",
       "      <td>0</td>\n",
       "      <td>...</td>\n",
       "      <td>0</td>\n",
       "      <td>0</td>\n",
       "      <td>0</td>\n",
       "      <td>0</td>\n",
       "      <td>0</td>\n",
       "      <td>0</td>\n",
       "      <td>0</td>\n",
       "      <td>1</td>\n",
       "      <td>0</td>\n",
       "      <td>0</td>\n",
       "    </tr>\n",
       "    <tr>\n",
       "      <th>2</th>\n",
       "      <td>-0.042642</td>\n",
       "      <td>0.245079</td>\n",
       "      <td>-0.420060</td>\n",
       "      <td>-0.145920</td>\n",
       "      <td>-0.21666</td>\n",
       "      <td>-0.035429</td>\n",
       "      <td>0</td>\n",
       "      <td>0</td>\n",
       "      <td>0</td>\n",
       "      <td>1</td>\n",
       "      <td>...</td>\n",
       "      <td>0</td>\n",
       "      <td>0</td>\n",
       "      <td>0</td>\n",
       "      <td>0</td>\n",
       "      <td>0</td>\n",
       "      <td>0</td>\n",
       "      <td>0</td>\n",
       "      <td>1</td>\n",
       "      <td>0</td>\n",
       "      <td>0</td>\n",
       "    </tr>\n",
       "    <tr>\n",
       "      <th>3</th>\n",
       "      <td>1.057047</td>\n",
       "      <td>0.425801</td>\n",
       "      <td>-1.197459</td>\n",
       "      <td>-0.145920</td>\n",
       "      <td>-0.21666</td>\n",
       "      <td>-0.035429</td>\n",
       "      <td>0</td>\n",
       "      <td>0</td>\n",
       "      <td>0</td>\n",
       "      <td>1</td>\n",
       "      <td>...</td>\n",
       "      <td>0</td>\n",
       "      <td>0</td>\n",
       "      <td>0</td>\n",
       "      <td>0</td>\n",
       "      <td>0</td>\n",
       "      <td>0</td>\n",
       "      <td>0</td>\n",
       "      <td>1</td>\n",
       "      <td>0</td>\n",
       "      <td>0</td>\n",
       "    </tr>\n",
       "    <tr>\n",
       "      <th>4</th>\n",
       "      <td>-0.775768</td>\n",
       "      <td>1.408176</td>\n",
       "      <td>1.134739</td>\n",
       "      <td>-0.145920</td>\n",
       "      <td>-0.21666</td>\n",
       "      <td>-0.035429</td>\n",
       "      <td>0</td>\n",
       "      <td>0</td>\n",
       "      <td>0</td>\n",
       "      <td>1</td>\n",
       "      <td>...</td>\n",
       "      <td>0</td>\n",
       "      <td>0</td>\n",
       "      <td>0</td>\n",
       "      <td>0</td>\n",
       "      <td>0</td>\n",
       "      <td>0</td>\n",
       "      <td>0</td>\n",
       "      <td>0</td>\n",
       "      <td>0</td>\n",
       "      <td>0</td>\n",
       "    </tr>\n",
       "  </tbody>\n",
       "</table>\n",
       "<p>5 rows × 105 columns</p>\n",
       "</div>"
      ],
      "text/plain": [
       "        age    fnlwgt  educational-num  capital-gain  capital-loss  \\\n",
       "0  0.030671 -1.063611         1.134739      0.148453      -0.21666   \n",
       "1  0.837109 -1.008707         1.134739     -0.145920      -0.21666   \n",
       "2 -0.042642  0.245079        -0.420060     -0.145920      -0.21666   \n",
       "3  1.057047  0.425801        -1.197459     -0.145920      -0.21666   \n",
       "4 -0.775768  1.408176         1.134739     -0.145920      -0.21666   \n",
       "\n",
       "   hours-per-week  workclass_ Federal-gov  workclass_ Local-gov  \\\n",
       "0       -0.035429                       0                     0   \n",
       "1       -2.222153                       0                     0   \n",
       "2       -0.035429                       0                     0   \n",
       "3       -0.035429                       0                     0   \n",
       "4       -0.035429                       0                     0   \n",
       "\n",
       "   workclass_ Never-worked  workclass_ Private  ...  native-country_ Portugal  \\\n",
       "0                        0                   0  ...                         0   \n",
       "1                        0                   0  ...                         0   \n",
       "2                        0                   1  ...                         0   \n",
       "3                        0                   1  ...                         0   \n",
       "4                        0                   1  ...                         0   \n",
       "\n",
       "   native-country_ Puerto-Rico  native-country_ Scotland  \\\n",
       "0                            0                         0   \n",
       "1                            0                         0   \n",
       "2                            0                         0   \n",
       "3                            0                         0   \n",
       "4                            0                         0   \n",
       "\n",
       "   native-country_ South  native-country_ Taiwan  native-country_ Thailand  \\\n",
       "0                      0                       0                         0   \n",
       "1                      0                       0                         0   \n",
       "2                      0                       0                         0   \n",
       "3                      0                       0                         0   \n",
       "4                      0                       0                         0   \n",
       "\n",
       "   native-country_ Trinadad&Tobago  native-country_ United-States  \\\n",
       "0                                0                              1   \n",
       "1                                0                              1   \n",
       "2                                0                              1   \n",
       "3                                0                              1   \n",
       "4                                0                              0   \n",
       "\n",
       "   native-country_ Vietnam  native-country_ Yugoslavia  \n",
       "0                        0                           0  \n",
       "1                        0                           0  \n",
       "2                        0                           0  \n",
       "3                        0                           0  \n",
       "4                        0                           0  \n",
       "\n",
       "[5 rows x 105 columns]"
      ]
     },
     "execution_count": 75,
     "metadata": {},
     "output_type": "execute_result"
    }
   ],
   "source": [
    "# viewing the input features\n",
    "x.head()"
   ]
  },
  {
   "cell_type": "code",
   "execution_count": 76,
   "id": "09fd00fa",
   "metadata": {
    "ExecuteTime": {
     "end_time": "2022-11-18T07:06:20.057656Z",
     "start_time": "2022-11-18T07:06:20.043754Z"
    }
   },
   "outputs": [
    {
     "data": {
      "text/plain": [
       "0    0\n",
       "1    0\n",
       "2    0\n",
       "3    0\n",
       "4    0\n",
       "Name: income, dtype: int64"
      ]
     },
     "execution_count": 76,
     "metadata": {},
     "output_type": "execute_result"
    }
   ],
   "source": [
    "# viewing the target feature\n",
    "y.head()"
   ]
  },
  {
   "cell_type": "markdown",
   "id": "e1482e75",
   "metadata": {},
   "source": [
    "> * Class `<=50K` is represented as 0\n",
    "> * Class `>50K` is represented as 1"
   ]
  },
  {
   "cell_type": "code",
   "execution_count": 77,
   "id": "d4e45d25",
   "metadata": {
    "ExecuteTime": {
     "end_time": "2022-11-18T07:06:20.087619Z",
     "start_time": "2022-11-18T07:06:20.058654Z"
    }
   },
   "outputs": [],
   "source": [
    "# Dividing the dataset into 75% training and 25% testing sets\n",
    "from sklearn.model_selection import train_test_split  \n",
    "\n",
    "x_train, x_test, y_train, y_test = train_test_split(x, y, test_size=0.25, random_state=11)"
   ]
  },
  {
   "cell_type": "code",
   "execution_count": 78,
   "id": "b63e15e4",
   "metadata": {
    "ExecuteTime": {
     "end_time": "2022-11-18T07:06:20.103535Z",
     "start_time": "2022-11-18T07:06:20.088616Z"
    }
   },
   "outputs": [
    {
     "name": "stdout",
     "output_type": "stream",
     "text": [
      "Shapes of data:\n",
      "X Train: (24420, 105)\n",
      "Y Train: (24420,)\n",
      "X Test: (8141, 105)\n",
      "Y Test: (8141,)\n"
     ]
    }
   ],
   "source": [
    "# viewing the shapes of dataset\n",
    "print(\"Shapes of data:\")\n",
    "print(\"X Train:\", x_train.shape)\n",
    "print(\"Y Train:\", y_train.shape)\n",
    "print(\"X Test:\", x_test.shape)\n",
    "print(\"Y Test:\", y_test.shape)"
   ]
  },
  {
   "cell_type": "code",
   "execution_count": 79,
   "id": "890d2ec5",
   "metadata": {
    "ExecuteTime": {
     "end_time": "2022-11-18T07:06:20.119493Z",
     "start_time": "2022-11-18T07:06:20.104531Z"
    }
   },
   "outputs": [],
   "source": [
    "# intitializing the ML model object  \n",
    "RF_classifier= RandomForestClassifier(random_state=11) "
   ]
  },
  {
   "cell_type": "code",
   "execution_count": 80,
   "id": "9e746f24",
   "metadata": {
    "ExecuteTime": {
     "end_time": "2022-11-18T07:06:22.506384Z",
     "start_time": "2022-11-18T07:06:20.121487Z"
    }
   },
   "outputs": [
    {
     "data": {
      "text/plain": [
       "RandomForestClassifier(random_state=11)"
      ]
     },
     "execution_count": 80,
     "metadata": {},
     "output_type": "execute_result"
    }
   ],
   "source": [
    "# training the classifier on Train data\n",
    "RF_classifier.fit(x_train, y_train)  "
   ]
  },
  {
   "cell_type": "code",
   "execution_count": 81,
   "id": "b6517828",
   "metadata": {
    "ExecuteTime": {
     "end_time": "2022-11-18T07:06:22.679167Z",
     "start_time": "2022-11-18T07:06:22.508381Z"
    }
   },
   "outputs": [],
   "source": [
    "# predicting on the test set result  \n",
    "y_pred_RF = RF_classifier.predict(x_test) "
   ]
  },
  {
   "cell_type": "code",
   "execution_count": 82,
   "id": "cc09585f",
   "metadata": {
    "ExecuteTime": {
     "end_time": "2022-11-18T07:06:22.868003Z",
     "start_time": "2022-11-18T07:06:22.680170Z"
    }
   },
   "outputs": [
    {
     "data": {
      "text/plain": [
       "<matplotlib.legend.Legend at 0x20a78056308>"
      ]
     },
     "execution_count": 82,
     "metadata": {},
     "output_type": "execute_result"
    },
    {
     "data": {
      "image/png": "[encoded data removed]",
      "text/plain": [
       "<Figure size 432x288 with 1 Axes>"
      ]
     },
     "metadata": {
      "needs_background": "light"
     },
     "output_type": "display_data"
    }
   ],
   "source": [
    "# Visualizing the distribution of Actual Values vs. Predicted Values\n",
    "\n",
    "ax=sns.distplot(y_test,hist=False,label='Actual Values')\n",
    "ax=sns.distplot(y_pred_RF,hist=False,label='Predicted Values')\n",
    "ax.set_title('Actual vs. Predicted Values')\n",
    "plt.legend()"
   ]
  },
  {
   "cell_type": "markdown",
   "id": "881d8f38",
   "metadata": {},
   "source": [
    "> * Looking at the distribution of Actual Values vs. Predicted Values, the distribution looks similar and predicted values are aligned closer to the actual values.\n",
    "> * This indicates a good fit model"
   ]
  },
  {
   "cell_type": "code",
   "execution_count": 83,
   "id": "fb98700f",
   "metadata": {
    "ExecuteTime": {
     "end_time": "2022-11-18T07:06:22.883598Z",
     "start_time": "2022-11-18T07:06:22.869020Z"
    }
   },
   "outputs": [
    {
     "data": {
      "text/plain": [
       "array([[5781,  470],\n",
       "       [ 703, 1187]], dtype=int64)"
      ]
     },
     "execution_count": 83,
     "metadata": {},
     "output_type": "execute_result"
    }
   ],
   "source": [
    "# creating the Confusion matrix \n",
    "from sklearn.metrics import confusion_matrix  \n",
    "\n",
    "cm_RF = confusion_matrix(y_test, y_pred_RF)  \n",
    "cm_RF"
   ]
  },
  {
   "cell_type": "code",
   "execution_count": 84,
   "id": "27c891d6",
   "metadata": {
    "ExecuteTime": {
     "end_time": "2022-11-18T07:06:23.023332Z",
     "start_time": "2022-11-18T07:06:22.884554Z"
    },
    "scrolled": true
   },
   "outputs": [
    {
     "data": {
      "text/plain": [
       "[Text(0, 0.5, '<=50K'), Text(0, 1.5, '>50K')]"
      ]
     },
     "execution_count": 84,
     "metadata": {},
     "output_type": "execute_result"
    },
    {
     "data": {
      "image/png": "[encoded data removed]",
      "text/plain": [
       "<Figure size 432x288 with 2 Axes>"
      ]
     },
     "metadata": {
      "needs_background": "light"
     },
     "output_type": "display_data"
    }
   ],
   "source": [
    "# visualizing the Confusion Matrix\n",
    "ax = sns.heatmap(cm_RF/np.sum(cm_RF), annot=True,fmt='.2%', cmap=\"YlGnBu\")\n",
    "ax.set(ylabel=\"True Label\", xlabel=\"Predicted Label\")\n",
    "ax.set_xticklabels(['<=50K', '>50K'])\n",
    "ax.set_yticklabels(['<=50K', '>50K'])"
   ]
  },
  {
   "cell_type": "markdown",
   "id": "fab61841",
   "metadata": {},
   "source": [
    "> * Out of all the values, 71.01% were correctly classifier as class `<=50K` \n",
    "> * Out of all the values, 14.58% were correctly classifier as class `>50K` "
   ]
  },
  {
   "cell_type": "code",
   "execution_count": 85,
   "id": "55d84a35",
   "metadata": {
    "ExecuteTime": {
     "end_time": "2022-11-18T07:06:23.039281Z",
     "start_time": "2022-11-18T07:06:23.024279Z"
    }
   },
   "outputs": [
    {
     "name": "stdout",
     "output_type": "stream",
     "text": [
      "Classification Report on Test Data:\n",
      "              precision    recall  f1-score   support\n",
      "\n",
      "           0       0.89      0.92      0.91      6251\n",
      "           1       0.72      0.63      0.67      1890\n",
      "\n",
      "    accuracy                           0.86      8141\n",
      "   macro avg       0.80      0.78      0.79      8141\n",
      "weighted avg       0.85      0.86      0.85      8141\n",
      "\n"
     ]
    }
   ],
   "source": [
    "# Viewing the Classification Report\n",
    "print(\"Classification Report on Test Data:\")\n",
    "print(classification_report(y_test, y_pred_RF))"
   ]
  },
  {
   "cell_type": "markdown",
   "id": "2c09766b",
   "metadata": {},
   "source": [
    "> __Performance Metrics:__\n",
    "\n",
    "> * 1. `Accuracy`: Percentage of correct predictions relative to total actual values.\n",
    "> * 2. `Precision`: Percentage of correct positive class predictions relative to total positive class predictions.\n",
    "> * 3. `Recall`: Percentage of correct positive class predictions relative to total actual positive class.\n",
    "> * 4. `F1 Score`: A weighted harmonic mean of precision and recall. The closer to 1, the better the model. <br> F1 Score: 2 * (Precision * Recall) / (Precision + Recall)"
   ]
  },
  {
   "cell_type": "markdown",
   "id": "883a04f4",
   "metadata": {},
   "source": [
    "> __Model Performance Summary:__\n",
    "\n",
    "> * In our model, we assume positive class = `>50K` class\n",
    "> * `Accuracy`: The model was correctly able to predict income class for 86% of the overall people. \n",
    "> * `Precision`: Out of all the people that the model predicted having income `>50K`, 72% actually did.\n",
    "> * `Recall`: Out of all the people that actually had income `>50K`, the model predicted this outcome correctly for 63% of those people.\n",
    "> * `F1 Score:` The value is 67% which is closer to 1, indicates that the model does a good job of predicting whether the income class of  people is '<=50K' or '>50K'."
   ]
  },
  {
   "cell_type": "code",
   "execution_count": null,
   "id": "4948a4ab",
   "metadata": {},
   "outputs": [],
   "source": []
  },
  {
   "cell_type": "markdown",
   "id": "b76689cc",
   "metadata": {},
   "source": [
    "### Viewing the factors contributing to the prediction of Income Class"
   ]
  },
  {
   "cell_type": "markdown",
   "id": "00c2a6a3",
   "metadata": {},
   "source": [
    "To get the feature importances from the Random Forest model, we use the `feature_importances_` attribute"
   ]
  },
  {
   "cell_type": "code",
   "execution_count": 86,
   "id": "96e524f2",
   "metadata": {
    "ExecuteTime": {
     "end_time": "2022-11-18T07:06:23.070748Z",
     "start_time": "2022-11-18T07:06:23.040235Z"
    }
   },
   "outputs": [
    {
     "data": {
      "text/plain": [
       "array([1.46459625e-01, 1.60295013e-01, 6.04476579e-02, 1.00155551e-01,\n",
       "       3.09089342e-02, 8.61100056e-02, 5.25301639e-03, 5.74349973e-03,\n",
       "       8.95251221e-06, 1.11393182e-02, 5.79676653e-03, 8.33294236e-03,\n",
       "       4.70541788e-03, 3.08375477e-05, 1.58588274e-03, 2.36928412e-03,\n",
       "       8.95359370e-04, 1.94923771e-04, 7.19407961e-04, 2.05044483e-03,\n",
       "       1.19829672e-03, 2.37433972e-03, 3.29557831e-03, 1.39740140e-02,\n",
       "       3.84555174e-03, 7.65332303e-03, 8.92242634e-03, 5.53816895e-05,\n",
       "       4.96635613e-03, 5.23191900e-03, 6.52712068e-03, 4.43810744e-04,\n",
       "       7.64074878e-02, 8.86039662e-04, 2.39204279e-02, 1.69623266e-03,\n",
       "       1.64660700e-03, 5.91287983e-03, 1.51869914e-05, 6.87399596e-03,\n",
       "       1.88115003e-02, 4.22008359e-03, 3.67415102e-03, 4.47498622e-03,\n",
       "       6.63118934e-03, 1.25012645e-04, 1.02574604e-02, 3.08116549e-03,\n",
       "       7.22515750e-03, 4.69893652e-03, 4.76150179e-03, 3.61107664e-02,\n",
       "       8.17238055e-03, 1.58857294e-03, 1.01777078e-02, 4.03578723e-03,\n",
       "       8.20905215e-03, 1.27235087e-03, 3.20142781e-03, 5.16914466e-03,\n",
       "       8.84698957e-04, 6.70578055e-03, 7.73587088e-03, 8.97938371e-03,\n",
       "       3.01397411e-04, 1.11829947e-03, 4.50685693e-04, 1.32701635e-04,\n",
       "       6.03672244e-04, 1.85205494e-04, 1.53900807e-04, 2.22682587e-04,\n",
       "       7.34360253e-04, 4.11957573e-04, 9.74951063e-04, 2.49078837e-04,\n",
       "       1.65533033e-04, 1.96681870e-04, 1.13979023e-07, 2.73652338e-06,\n",
       "       1.60749050e-04, 1.87433024e-04, 7.72342322e-04, 2.50210519e-04,\n",
       "       9.99191708e-05, 9.01308251e-04, 2.23540362e-04, 5.52419565e-04,\n",
       "       7.55689055e-05, 2.20762049e-03, 1.32426886e-04, 3.79695961e-05,\n",
       "       1.24376364e-04, 1.12714900e-03, 5.98555271e-04, 2.18751119e-04,\n",
       "       3.56101147e-04, 4.75829933e-05, 6.19937495e-04, 3.21277896e-04,\n",
       "       6.12238641e-05, 3.32924198e-05, 5.17458986e-03, 3.12923641e-04,\n",
       "       2.44886916e-04])"
      ]
     },
     "execution_count": 86,
     "metadata": {},
     "output_type": "execute_result"
    }
   ],
   "source": [
    "# Feature importance values from the Random Forest model\n",
    "RF_classifier.feature_importances_"
   ]
  },
  {
   "cell_type": "code",
   "execution_count": 87,
   "id": "df111c56",
   "metadata": {
    "ExecuteTime": {
     "end_time": "2022-11-18T07:06:23.287796Z",
     "start_time": "2022-11-18T07:06:23.071809Z"
    }
   },
   "outputs": [
    {
     "data": {
      "image/png": "[encoded data removed]",
      "text/plain": [
       "<Figure size 1080x504 with 1 Axes>"
      ]
     },
     "metadata": {
      "needs_background": "light"
     },
     "output_type": "display_data"
    }
   ],
   "source": [
    "# plot the importances (easier to interpret than values).\n",
    "sorted_idx = RF_classifier.feature_importances_.argsort()\n",
    "\n",
    "plt.figure(figsize=(15,7))\n",
    "plt.barh(x.columns[sorted_idx[-20:]], RF_classifier.feature_importances_[sorted_idx[-20:]]) #only top 20 features\n",
    "plt.xlabel(\"Random Forest Feature Importance\")\n",
    "plt.show()"
   ]
  },
  {
   "cell_type": "markdown",
   "id": "727ea8b4",
   "metadata": {},
   "source": [
    "> Based on the feature importance graph, the top-most features responsible to predict the Income Class includes:\n",
    "> * `fnlwgt`\n",
    "> * `age`\n",
    "> * `capital gain`\n",
    "> * `hours per week`\n",
    "> * `marital status`\n",
    "> * `educational-num`\n",
    "> * `relationship`\n",
    "> * `capital loss`\n",
    "> * `occupation`\n",
    "> * `education`\n",
    "> * `workclass`\n",
    "> * `gender`"
   ]
  },
  {
   "cell_type": "markdown",
   "id": "1504c4f3",
   "metadata": {},
   "source": [
    "### Answering the Research Questions:\n",
    "\n",
    " * What role/weight does gender have in determining an individual's income?\n",
    " * How does an individual's education level affect their income? \n",
    " * How does the hour's work per week play on an individual's income?\n"
   ]
  },
  {
   "cell_type": "markdown",
   "id": "51938115",
   "metadata": {},
   "source": [
    "> * All the 3 factors (`Gender`, `Education`, `hours per week`) mentioned in the research question do play an important role in determining the income class of an individual.\n",
    "> * However the top-most factors are `Age`, `Hours per week`, `Marital Status`, `Education` and `Relationship Status`."
   ]
  },
  {
   "cell_type": "markdown",
   "id": "d24e97d1",
   "metadata": {},
   "source": [
    "### --------------------------------------- End ---------------------------------------"
   ]
  },
  {
   "cell_type": "code",
   "execution_count": null,
   "id": "9676c631",
   "metadata": {},
   "outputs": [],
   "source": []
  }
 ],
 "metadata": {
  "kernelspec": {
   "display_name": "Python 3",
   "language": "python",
   "name": "python3"
  },
  "language_info": {
   "codemirror_mode": {
    "name": "ipython",
    "version": 3
   },
   "file_extension": ".py",
   "mimetype": "text/x-python",
   "name": "python",
   "nbconvert_exporter": "python",
   "pygments_lexer": "ipython3",
   "version": "3.7.4"
  },
  "papermill": {
   "default_parameters": {},
   "duration": 223.885398,
   "end_time": "2022-08-22T04:05:31.519076",
   "environment_variables": {},
   "exception": null,
   "input_path": "__notebook__.ipynb",
   "output_path": "__notebook__.ipynb",
   "parameters": {},
   "start_time": "2022-08-22T04:01:47.633678",
   "version": "2.3.4"
  },
  "toc": {
   "base_numbering": 1,
   "nav_menu": {},
   "number_sections": false,
   "sideBar": true,
   "skip_h1_title": false,
   "title_cell": "Table of Contents",
   "title_sidebar": "Contents",
   "toc_cell": false,
   "toc_position": {},
   "toc_section_display": true,
   "toc_window_display": true
  }
 },
 "nbformat": 4,
 "nbformat_minor": 5
}
